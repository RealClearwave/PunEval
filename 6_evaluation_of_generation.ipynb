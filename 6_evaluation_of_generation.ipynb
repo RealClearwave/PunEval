{
 "cells": [
  {
   "cell_type": "markdown",
   "source": [
    "# Evaluation"
   ],
   "metadata": {
    "collapsed": false
   }
  },
  {
   "cell_type": "markdown",
   "source": [
    "## Load Package"
   ],
   "metadata": {
    "collapsed": false
   }
  },
  {
   "cell_type": "code",
   "execution_count": 1,
   "outputs": [],
   "source": [
    "import os\n",
    "import re\n",
    "import json\n",
    "import torch\n",
    "import spacy\n",
    "import argparse\n",
    "import numpy as np  # numpy==1.23.5\n",
    "from tqdm import tqdm\n",
    "from thefuzz import fuzz\n",
    "from collections import defaultdict\n",
    "from fairseq.data.dictionary import Dictionary  # fairseq == 0.6.1\n",
    "from fairseq import data, tasks, utils, tokenizer\n",
    "from fairseq.sequence_scorer import SequenceScorer\n",
    "from spacy.lang.en.stop_words import STOP_WORDS\n",
    "from langchain_openai import ChatOpenAI\n",
    "from langchain.prompts import ChatPromptTemplate\n",
    "from _api_key import get_openai_api_key"
   ],
   "metadata": {
    "collapsed": false,
    "ExecuteTime": {
     "start_time": "2024-04-19T17:35:15.261924Z",
     "end_time": "2024-04-19T17:37:25.814625Z"
    }
   }
  },
  {
   "cell_type": "markdown",
   "source": [
    "## Basic Function"
   ],
   "metadata": {
    "collapsed": false
   }
  },
  {
   "cell_type": "code",
   "execution_count": 2,
   "outputs": [],
   "source": [
    "def load_json_file(file_path):\n",
    "    \"\"\"\n",
    "    Load json file\n",
    "    \"\"\"\n",
    "    with open(file_path,'r',encoding='utf-8') as f:\n",
    "        file = json.load(f)\n",
    "        f.close()\n",
    "    return file\n",
    "\n",
    "def save_json_file(file, file_path, sort_keys:bool=False):\n",
    "    \"\"\"\n",
    "    Save json file\n",
    "    \"\"\"\n",
    "    with open(file_path,'w',encoding='utf-8') as f:\n",
    "        json.dump(file, f, indent=4, ensure_ascii=False, sort_keys=sort_keys)\n",
    "        f.close()"
   ],
   "metadata": {
    "collapsed": false,
    "ExecuteTime": {
     "start_time": "2024-04-19T17:37:25.814625Z",
     "end_time": "2024-04-19T17:37:25.830280Z"
    }
   }
  },
  {
   "cell_type": "code",
   "execution_count": 3,
   "outputs": [],
   "source": [
    "def splitDataset(file, puntype='hom'):\n",
    "    \"\"\"\n",
    "    Enter path or json file to separate the pun part from the non-pun part of the dataset\n",
    "    \"\"\"\n",
    "    if isinstance(file,str):\n",
    "        dataset = load_json_file(file)\n",
    "    else:\n",
    "        dataset = file\n",
    "    punDataset = dict()\n",
    "    nonpunDataset = dict()\n",
    "    for ID in dataset:\n",
    "        data = dataset[ID]\n",
    "        if puntype in ID:\n",
    "            if data.get('pun_word', False):\n",
    "                punDataset[ID] = data\n",
    "            else:\n",
    "                nonpunDataset[ID] = data\n",
    "    return punDataset, nonpunDataset"
   ],
   "metadata": {
    "collapsed": false,
    "ExecuteTime": {
     "start_time": "2024-04-19T17:37:25.830280Z",
     "end_time": "2024-04-19T17:37:25.845891Z"
    }
   }
  },
  {
   "cell_type": "code",
   "execution_count": 4,
   "outputs": [],
   "source": [
    "def tokenize(text:str, lemma:bool=False, filter:bool=False, lower:bool=True):\n",
    "    \"\"\"\n",
    "    Tokenize the input text\n",
    "    \"\"\"\n",
    "    def is_content(word, tag):\n",
    "        # Determine whether it is a content word\n",
    "        if not word in STOP_WORDS and \\\n",
    "           (tag.startswith('NN') or tag.startswith('VB') or tag.startswith('JJ')):\n",
    "            return True\n",
    "        return False\n",
    "    nlp = spacy.load('en_core_web_sm', disable=['ner', 'parser'])\n",
    "    tokens = nlp(text)\n",
    "    if lemma:\n",
    "        if filter:\n",
    "            tokens = [token.lemma_ for token in tokens if is_content(token.lemma_, token.tag_)]\n",
    "        else:\n",
    "            tokens = [token.lemma_ for token in tokens]\n",
    "    else:\n",
    "        if filter:\n",
    "            tokens = [token.text for token in tokens if is_content(token.text, token.tag_)]\n",
    "        else:\n",
    "            tokens = [token.text for token in tokens]\n",
    "    if lower:\n",
    "        tokens = [token.lower() for token in tokens]\n",
    "    return tokens"
   ],
   "metadata": {
    "collapsed": false,
    "ExecuteTime": {
     "start_time": "2024-04-19T17:37:25.845891Z",
     "end_time": "2024-04-19T17:37:25.865005Z"
    }
   }
  },
  {
   "cell_type": "markdown",
   "source": [
    "## Pre-defined Class"
   ],
   "metadata": {
    "collapsed": false
   }
  },
  {
   "cell_type": "code",
   "execution_count": 5,
   "outputs": [],
   "source": [
    "class Glove:\n",
    "    \"\"\"\n",
    "    Glove Model\n",
    "    \"\"\"\n",
    "    def __init__(self, idx_to_token, idx_to_vec, use_cuda):\n",
    "        \"\"\"\n",
    "        Define the class of Glove model\n",
    "        :param idx_to_token: vocabulary\n",
    "        :param idx_to_vec: embedding vector\n",
    "        \"\"\"\n",
    "        self.idx_to_token = idx_to_token\n",
    "        self.idx_to_vec = idx_to_vec\n",
    "        self.unknown_idx = 0\n",
    "        self.token_to_idx = {token:idx for idx,token in enumerate(self.idx_to_token)}\n",
    "        if use_cuda:\n",
    "            self.idx_to_vec = self.idx_to_vec.cuda()\n",
    "\n",
    "    @classmethod\n",
    "    def load_model(cls, model_path:str, cpu=False):\n",
    "        idx_to_token, idx_to_vec = ['<unk>'], []\n",
    "        with open(model_path, 'r', encoding='utf-8') as f:\n",
    "            for line in f:\n",
    "                elems = line.rstrip().split(' ')\n",
    "                token, vec = elems[0], [float(e) for e in elems[1:]]\n",
    "                if len(vec) > 1:\n",
    "                    idx_to_token.append(token)\n",
    "                    idx_to_vec.append(vec)\n",
    "        idx_to_vec = [[0]*len(idx_to_vec[0])] + idx_to_vec\n",
    "        use_cuda = torch.cuda.is_available() and not cpu\n",
    "        return cls(idx_to_token, torch.tensor(idx_to_vec), use_cuda)\n",
    "\n",
    "    def cosine_similarity(self, words1, words2):\n",
    "        vec1 = self.__getitem__(words1)\n",
    "        vec2 = self.__getitem__(words2)\n",
    "        vec1 = vec1.unsqueeze(0) if len(vec1.shape)==1 else vec1\n",
    "        vec2 = vec2.unsqueeze(0) if len(vec2.shape)==1 else vec2\n",
    "        cos = torch.matmul(vec1,vec2.T) / ((torch.sqrt(torch.sum(vec1*vec1,dim=1,keepdim=True))+1e-9) *\n",
    "                                           (torch.sqrt(torch.sum(vec2*vec2,dim=1,keepdim=True)).T+1e-9))\n",
    "        return cos.data.cpu().numpy()\n",
    "\n",
    "    def __getitem__(self, tokens):\n",
    "        indices = [self.token_to_idx.get(token,self.unknown_idx) for token in tokens] \\\n",
    "            if isinstance(tokens, list) else self.token_to_idx.get(tokens, self.unknown_idx)\n",
    "        vecs = self.idx_to_vec[torch.tensor(indices)]\n",
    "        return vecs\n",
    "\n",
    "    def __len__(self):\n",
    "        return len(self.idx_to_token)\n",
    "\n",
    "\n",
    "class SkipGram(object):\n",
    "    \"\"\"\n",
    "    SkipGram model used in previous papers\n",
    "    \"\"\"\n",
    "    def __init__(self, model, vocab, use_cuda):\n",
    "        self.vocab = vocab\n",
    "        self.ivectors = model['embedding.ivectors.weight'].detach()\n",
    "        self.ovectors = model['embedding.ovectors.weight'].detach()\n",
    "        assert len(self.vocab) == self.ivectors.shape[0]\n",
    "        if use_cuda:\n",
    "            self.ivectors = self.ivectors.cuda()\n",
    "            self.ovectors = self.ovectors.cuda()\n",
    "\n",
    "    @classmethod\n",
    "    def load_model(cls, model_path, vocab_path, cpu=False):\n",
    "        model = torch.load(model_path)\n",
    "        vocab = Dictionary.load(vocab_path)\n",
    "        use_cuda = torch.cuda.is_available() and not cpu\n",
    "        return cls(model, vocab, use_cuda)\n",
    "\n",
    "    def score(self, iwords, owords):\n",
    "        \"\"\"p(oword | iword)\n",
    "        \"\"\"\n",
    "        iwords = torch.LongTensor([self.vocab.index(w) for w in iwords])\n",
    "        owords = torch.LongTensor([self.vocab.index(w) for w in owords])\n",
    "        ivectors = self.ivectors[iwords]\n",
    "        ovectors = self.ovectors[owords]\n",
    "        scores = torch.matmul(ovectors, ivectors.t())\n",
    "        probs = scores.sigmoid()\n",
    "        return probs.data.cpu().numpy()\n",
    "\n",
    "\n",
    "class UniGram(object):\n",
    "    \"\"\"\n",
    "    Unigram model used in previous papers\n",
    "    \"\"\"\n",
    "    def __init__(self, word_counts, oov_prob):\n",
    "        self.word_counts = word_counts\n",
    "        self.total_count = sum(self.word_counts.values())\n",
    "        self.oov_prob = oov_prob\n",
    "        self._oov_smoothing_prob = self.oov_prob * (1. / self.total_count)\n",
    "\n",
    "    @classmethod\n",
    "    def load_model(cls, dict_path, oov_prob=0.03):\n",
    "        word_counts = {}\n",
    "        with open(dict_path, 'r', encoding='utf-8') as f:\n",
    "            for line in f:\n",
    "                item = line.strip().split()\n",
    "                word_counts[item[0]] = int(item[1])\n",
    "        return cls(word_counts, oov_prob)\n",
    "\n",
    "    def _freq(self, token):\n",
    "        p = self.word_counts.get(token, 0) / float(self.total_count)\n",
    "        smoothed_p = (1 - self.oov_prob) * p + self._oov_smoothing_prob\n",
    "        return smoothed_p\n",
    "\n",
    "    def freq(self, tokens):\n",
    "        if isinstance(tokens, list):\n",
    "            return [self._freq(token) for token in tokens]\n",
    "        else:\n",
    "            return self._freq(tokens)\n",
    "\n",
    "\n",
    "class LM(object):\n",
    "    \"\"\"\n",
    "    wiki103_fconv_lm used in previous papers\n",
    "    \"\"\"\n",
    "    def __init__(self, task, scorer, use_cuda):\n",
    "        self.task = task\n",
    "        self.scorer = scorer\n",
    "        self.use_cuda = use_cuda\n",
    "        if use_cuda:\n",
    "            self.scorer.cuda()\n",
    "\n",
    "    @classmethod\n",
    "    def load_model(cls, model_path, cpu=False):\n",
    "        args = argparse.Namespace(data=os.path.dirname(model_path), path=model_path, cpu=cpu, task='language_modeling',\n",
    "                output_dictionary_size=-1, self_target=False, future_target=False, past_target=False)\n",
    "        use_cuda = torch.cuda.is_available() and not cpu\n",
    "        task = tasks.setup_task(args)\n",
    "        models, _ = utils.load_ensemble_for_inference([args.path], task = task)\n",
    "        d = task.target_dictionary\n",
    "        scorer = SequenceScorer(models, d)\n",
    "        return cls(task, scorer, use_cuda)\n",
    "\n",
    "    def score_sents(self, sents, tokenize=str.split):\n",
    "        \"\"\"Return log p at each word\n",
    "        \"\"\"\n",
    "        itr = self.make_batches(sents, self.task.target_dictionary, self.scorer.models[0].max_positions(), tokenize=tokenize)\n",
    "        results = self.scorer.score_batched_itr(itr, cuda=self.use_cuda)\n",
    "        scores = []\n",
    "        for id_, src_tokens, __, hypos in results:\n",
    "            pos_scores = hypos[0]['positional_scores'].data.cpu().numpy()\n",
    "            scores.append((int(id_.data.cpu().numpy()), pos_scores))\n",
    "        # sort by id\n",
    "        scores = [s[1] for s in sorted(scores, key=lambda x: x[0])]\n",
    "        return scores\n",
    "\n",
    "    def make_batches(self, lines, src_dict, max_positions, tokenize=str.split):\n",
    "        tokens = [\n",
    "            tokenizer.Tokenizer.tokenize(src_str, src_dict, add_if_not_exist=False, tokenize=tokenize).long()\n",
    "            for src_str in lines\n",
    "        ]\n",
    "        lengths = np.array([t.numel() for t in tokens])\n",
    "        # Load dataset\n",
    "        # MonolingualDataset[i] = source, future_target, past_target\n",
    "        # all targets are effectively ignored during inference\n",
    "        dataset = data.MonolingualDataset(\n",
    "                dataset=[(s[:-1], s[1:], None) for s in tokens],\n",
    "                sizes=lengths, src_vocab=src_dict, tgt_vocab=src_dict,\n",
    "                add_eos_for_other_targets=False, shuffle=False)\n",
    "        itr = self.task.get_batch_iterator(\n",
    "            dataset=dataset,\n",
    "            max_tokens=100,\n",
    "            max_sentences=5,\n",
    "            max_positions=max_positions,\n",
    "        ).next_epoch_itr(shuffle=False)\n",
    "        return itr"
   ],
   "metadata": {
    "collapsed": false,
    "ExecuteTime": {
     "start_time": "2024-04-19T17:37:25.877556Z",
     "end_time": "2024-04-19T17:37:25.893611Z"
    }
   }
  },
  {
   "cell_type": "code",
   "execution_count": 6,
   "outputs": [],
   "source": [
    "class GenerationScorer:\n",
    "    \"\"\"\n",
    "    Calculate indicators like Ambiguity, Distinctiveness, Surprise and Unusualness  \\n\n",
    "    The word embedding model used for some indicators is relatively old, and it is necessary to ensure that pun word and alternative word exist in the vocab dictionary for the indicators to be meaningful\n",
    "    \"\"\"\n",
    "    def __init__(self, embedding: SkipGram | Glove, unigram: UniGram, lm: LM):\n",
    "        self.embedding = embedding\n",
    "        self.unigram = unigram\n",
    "        self.lm = lm\n",
    "\n",
    "        self.words = None\n",
    "        self.content_words = None\n",
    "        self.punchline = None\n",
    "        self.pun_ind = None\n",
    "        self.pun_word = None\n",
    "        self.alter_word = None\n",
    "        self.meanings = None\n",
    "\n",
    "        self.unigram_logprobs = None\n",
    "        self.unigram_probs = None\n",
    "        self.embedding_scores = None\n",
    "        self.meaning_logprior = None\n",
    "        self.valid = None\n",
    "\n",
    "    def change(self, text, meanings, pun_ind:int=None):\n",
    "        self.words = tokenize(text, lower=False)\n",
    "        self.content_words = tokenize(text, lemma=True, filter=True)\n",
    "        self.punchline = meanings[0]\n",
    "        if pun_ind is None:\n",
    "            self.pun_ind = self.fuzz_matching_index(self.punchline, self.words)\n",
    "        else:\n",
    "            self.pun_ind = pun_ind\n",
    "        self.pun_word, self.alter_word = meanings[1:3]\n",
    "        self.meanings = [tokenize(self.pun_word, lemma=True)[0],\n",
    "                         tokenize(self.alter_word, lemma=True)[0]]\n",
    "\n",
    "        _words = list(set(self.content_words + self.meanings))\n",
    "        self.unigram_probs = {w: self._unigram_probs(w) for w in _words}\n",
    "        self.unigram_logprobs = {w: np.log(p) for w, p in self.unigram_probs.items()}\n",
    "        self.embedding_scores = self._embedding_scores(_words, self.meanings)\n",
    "        self.meaning_logprior = self._meaning_logprior()\n",
    "        self.valid = True\n",
    "        # If pun_word, alter_word is not in the dictionary of the embedding model, then the indicator is not valid\n",
    "        if isinstance(self.embedding, SkipGram):\n",
    "            unk_ind = self.embedding.vocab.unk()\n",
    "            if unk_ind in [self.embedding.vocab.index(m) for m in self.meanings]:\n",
    "                self.valid = False\n",
    "        else:\n",
    "            unk_ind = self.embedding.unknown_idx\n",
    "            if unk_ind in [self.embedding.token_to_idx[m] for m in self.meanings]:\n",
    "                self.valid = False\n",
    "        # print(self.words)\n",
    "        # print(self.content_words)\n",
    "        # print(self.punchline, self.meanings)\n",
    "        # print(self.pun_ind)\n",
    "\n",
    "    def fuzz_matching_index(self, targets:str|list, candidates:list):\n",
    "        # Find the best fuzz match\n",
    "        if isinstance(targets,str):\n",
    "            targets = [targets]\n",
    "        inds = []\n",
    "        for target in targets:\n",
    "            scores = [fuzz.ratio(cand,target)/100 for cand in candidates]\n",
    "            try:\n",
    "                ind = scores.index(max(scores))\n",
    "            except:\n",
    "                ind = -1\n",
    "            inds.append(ind)\n",
    "        return max(inds)\n",
    "\n",
    "    def _unigram_probs(self, w):\n",
    "        uni_probs = self.unigram.freq(w)\n",
    "        return uni_probs\n",
    "\n",
    "    def _glove_scores(self, w, m):\n",
    "        scores = defaultdict(dict)\n",
    "        _scores = self.embedding.cosine_similarity(w, m)\n",
    "        mean = np.mean(_scores, axis=0, keepdims=True)\n",
    "        std = np.std(_scores, axis=0, keepdims=True)\n",
    "        _scores = (_scores - mean) / std\n",
    "        for i, wi in enumerate(w):\n",
    "            for j, mj in enumerate(m):\n",
    "                scores[wi][mj] = np.exp(_scores[i][j] + self.unigram_logprobs[wi])\n",
    "        return scores\n",
    "\n",
    "    def _skipgram_scores(self, w, m):\n",
    "        scores = defaultdict(dict)\n",
    "        _scores = self.embedding.score(iwords=m, owords=w)  # p(oword | iword)\n",
    "        for i, wi in enumerate(w):\n",
    "            for j, mj in enumerate(m):\n",
    "                scores[wi][mj] = _scores[i][j]\n",
    "        return scores\n",
    "\n",
    "    def _embedding_scores(self, w, m):\n",
    "        if isinstance(self.embedding, SkipGram):\n",
    "            return self._skipgram_scores(w,m)\n",
    "        else:\n",
    "            return self._glove_scores(w,m)\n",
    "\n",
    "    def _meaning_logprior(self):\n",
    "        # log p(m)\n",
    "        probs = [self._unigram_probs(m) for m in self.meanings]\n",
    "        z = sum(probs)\n",
    "        log_prior = {m: np.log(p / z) for m, p in zip(self.meanings, probs)}\n",
    "        return log_prior\n",
    "\n",
    "    def _word_likelihood(self, w, m, f):\n",
    "        # p(w | m, f=1) = p(w | m)\n",
    "        if f == 1:\n",
    "            p_w = self.unigram_probs[w]\n",
    "            p_m = [self.unigram_probs[m] for m in self.meanings]\n",
    "            p_w_m = [self.embedding_scores[w][m] for m in self.meanings]\n",
    "            normalizer =  p_w / np.dot(p_m, p_w_m)\n",
    "            # prob = self.embedding_scores[w][m] * normalizer\n",
    "            prob = self.embedding_scores[w][m]\n",
    "        # p(w | m, f=0) = p(w)\n",
    "        else:\n",
    "            prob = self._unigram_probs(w)\n",
    "        return prob\n",
    "\n",
    "    def _meaning_posterior(self, sent):\n",
    "        # p(m | sent)\n",
    "        log_posterior = []\n",
    "        for m in self.meanings:\n",
    "            # NOTE: ignore the assignment prior which is a constant\n",
    "            sent_likelihood = np.sum([np.log(\n",
    "                self._word_likelihood(w, m, 1) + self._word_likelihood(w, m, 0)\n",
    "            ) for w in sent])\n",
    "            log_prob = self.meaning_logprior[m] + sent_likelihood\n",
    "            log_posterior.append(log_prob)\n",
    "        posterior = np.exp(log_posterior)\n",
    "        posterior = posterior / np.sum(posterior)\n",
    "        return posterior\n",
    "\n",
    "    def ambiguity(self):\n",
    "        if self.valid:\n",
    "            prob = self._meaning_posterior(sent=self.content_words)\n",
    "            entropy = -1 * np.sum(prob * np.log(prob))\n",
    "            entropy = 0 if np.isnan(entropy) else entropy\n",
    "            return float(entropy)\n",
    "        return None\n",
    "\n",
    "    def distinctiveness(self):\n",
    "        def kl_div(p1, p2):\n",
    "            p1 = p1 / np.sum(p1)\n",
    "            p2 = p2 / np.sum(p2)\n",
    "            return np.sum(p1 * np.log(p1 / p2))\n",
    "        if self.valid:\n",
    "            kl_divs_p1_p2, kl_divs_p2_p1 = [], []\n",
    "            m1, m2 = self.meanings\n",
    "            for w in self.content_words:\n",
    "                p1 = [self._word_likelihood(w, m1, f) for f in (0, 1)]\n",
    "                p2 = [self._word_likelihood(w, m2, f) for f in (0, 1)]\n",
    "                # print('p1',p1, 'p2',p2)\n",
    "                kl_divs_p1_p2.append(kl_div(p1, p2))\n",
    "                kl_divs_p2_p1.append(kl_div(p2, p1))\n",
    "            kl_divs = np.sum(kl_divs_p1_p2) + np.sum(kl_divs_p2_p1)\n",
    "            kl_divs = 0 if np.isnan(kl_divs) else kl_divs\n",
    "            return float(kl_divs)\n",
    "        return None\n",
    "\n",
    "    def _unusualness(self, sent, lm_scores):\n",
    "        unigram_scores = self.unigram.freq(sent)\n",
    "        score = (np.sum(unigram_scores) - np.sum(lm_scores)) / len(sent)\n",
    "        return score\n",
    "\n",
    "    def surprise(self, window_size: int = 2):\n",
    "        global_pun_sent = self.words.copy()\n",
    "        global_alter_sent = self.words.copy()\n",
    "        global_pun_sent[self.pun_ind] = self.pun_word\n",
    "        global_alter_sent[self.pun_ind] = self.alter_word\n",
    "\n",
    "        local_start = max(0, self.pun_ind - window_size)\n",
    "        local_end = self.pun_ind + window_size\n",
    "        local_pun_sent = global_pun_sent[local_start:local_end]\n",
    "        local_alter_sent = global_alter_sent[local_start:local_end]\n",
    "        sents = [global_alter_sent, global_pun_sent, local_alter_sent, local_pun_sent]\n",
    "        scores = self.lm.score_sents(sents, tokenize=lambda x: x)\n",
    "        global_surprise = np.sum(scores[0]) - np.sum(scores[1])\n",
    "        local_surprise = np.sum(scores[2]) - np.sum(scores[3])\n",
    "        # surprise\n",
    "        if not (global_surprise > 0 and local_surprise > 0):\n",
    "            ratio = -1.0\n",
    "        else:\n",
    "            ratio = local_surprise / global_surprise\n",
    "        ratio = 0 if np.isnan(ratio) else ratio\n",
    "        # unusualness\n",
    "        grammar = self._unusualness(global_pun_sent, scores[1])\n",
    "        grammar = 0 if np.isnan(grammar) else grammar\n",
    "        return float(ratio), float(grammar)"
   ],
   "metadata": {
    "collapsed": false,
    "ExecuteTime": {
     "start_time": "2024-04-19T17:37:25.893611Z",
     "end_time": "2024-04-19T17:37:25.925367Z"
    }
   }
  },
  {
   "cell_type": "markdown",
   "source": [
    "## Find Synonym"
   ],
   "metadata": {
    "collapsed": false
   }
  },
  {
   "cell_type": "code",
   "execution_count": 7,
   "outputs": [],
   "source": [
    "def call_llm_to_find_synonym(model, dataset, examples:dict=None, batch_size:int=1, save:bool=False, path='synonyms.json'):\n",
    "    \"\"\"\n",
    "    Find synonyms for pun word and alternative word in puns\n",
    "    \"\"\"\n",
    "    def get_punchline_elements(data:dict):\n",
    "        # Get pun word/sense, alternative word/sense, etc. from data\n",
    "        pun_word = data['pun_word']\n",
    "        pun_sense = data['pun_sense']\n",
    "        alter_word = data['alter_word']\n",
    "        alter_sense = data['alter_sense']\n",
    "        context_words = data['human_keywords']\n",
    "        return pun_word, pun_sense, alter_word, alter_sense, context_words\n",
    "\n",
    "    path = './dataset/' + path\n",
    "    if os.path.exists(path):\n",
    "        record_syn = load_json_file(path)\n",
    "    else:\n",
    "        record_syn = dict()\n",
    "    # [A]. Construct the prompt\n",
    "    instruction = \"\"\"<*Instruction*>\\nBelow is a pun text, one keyword, and its two meanings. The keyword is the pun in the text, which can be interpreted in two meanings. Please find two different synonyms for the keyword, each corresponding to one of the meanings. The synonyms should be able to replace the keyword in the text seamlessly to remove ambiguity, while ideally being a simple word. You must output the current status in a parsable JSON format. An example output looks like:\\n{{'Synonym 1 for Meaning 1': 'XXX', 'Synonym 2 for Meaning 2': 'XXX'}}\"\"\"\n",
    "    if examples is not None:\n",
    "        examples_temp = []\n",
    "        for ID in examples:\n",
    "            example = examples[ID]\n",
    "            pun_word, pun_sense, alter_word, alter_sense, context_words = get_punchline_elements(data=example)\n",
    "            punchline, text = example['punchline'], example['human_text']\n",
    "            synonym1, synonym2 = example['pun_word_synonym'], example['alter_word_synonym']\n",
    "            examples_temp.append(f\"Text: {text}\\nKeyword: {punchline}\\n\"\n",
    "                                 f\"Meaning 1: {pun_word} <{pun_sense}>\\n\"\n",
    "                                 f\"Meaning 2: {alter_word} <{alter_sense}>\\n\"\n",
    "                                 f\"Output:\\n{{{{\\\"Synonym 1 for Meaning 1\\\": \\\"{synonym1}\\\", \"\n",
    "                                 f\"\\\"Synonym 2 for Meaning 2\\\": \\\"{synonym2}\\\"}}}}\")\n",
    "        examples_string = '\\n\\n<*Examples*>\\n' + '\\n\\n'.join(examples_temp)\n",
    "    else:\n",
    "        examples_string = \"\"\"\"\"\"\n",
    "    testing = \"\"\"\\n\\n<*Your Response*>\\nText: {text}\\nKeyword: {punchline}\\nMeaning 1: {pun_word} <{pun_sense}>\\nMeaning 2: {alter_word} <{alter_sense}>\\nOutput:\"\"\"\n",
    "    prompt_string = instruction + examples_string + testing\n",
    "    chat_prompt = ChatPromptTemplate.from_template(prompt_string)\n",
    "\n",
    "    # [B]. Call llm to generate\n",
    "    model_name = model.model_name\n",
    "    key_syn = f\"{model_name}_synonyms\"\n",
    "    IDs = list(dataset.keys())\n",
    "    IDs_loaded = []\n",
    "    for ID in record_syn:\n",
    "        if record_syn[ID].get(key_syn, False):\n",
    "            IDs_loaded.append(ID)\n",
    "    all_ind = list(range(0,len(IDs)))\n",
    "    batch_ind = list(range(0,len(IDs),batch_size))\n",
    "    for ind in tqdm(all_ind):\n",
    "        if ind not in batch_ind:\n",
    "            continue\n",
    "        IDs_batch = IDs[ind: ind+batch_size]\n",
    "        # Remove the data that has already been run\n",
    "        IDs_batch = list(set(IDs_batch)-set(IDs_loaded))\n",
    "        if len(IDs_batch) == 0:\n",
    "            continue\n",
    "        _inputs = []\n",
    "        for ID in IDs_batch:\n",
    "            data = dataset[ID]\n",
    "            assert 'pun_word' in data  # Make sure it is a pun data\n",
    "            pun_word, pun_sense, alter_word, alter_sense, context_words = get_punchline_elements(data=data)\n",
    "            pun_ind = int(data['pun_word_ind'].split('_')[-1]) - 1\n",
    "            punchline = data['human_text'].split(' ')[pun_ind]\n",
    "            text = data['human_text']\n",
    "            _inputs.append(chat_prompt.format_messages(text=text, punchline=punchline,\n",
    "                                                       pun_word=pun_word, pun_sense=pun_sense,\n",
    "                                                       alter_word=alter_word, alter_sense=alter_sense))\n",
    "        _outputs = [out.content for out in model.batch(_inputs)]\n",
    "        # print(_inputs[0][0].content)\n",
    "        # print(_outputs[0])\n",
    "        # break\n",
    "        for ID,out in zip(IDs_batch, _outputs):\n",
    "            try:\n",
    "                out = out[out.index('{'): out.index('}')+1]\n",
    "                synonyms = eval(out)\n",
    "                pun_word_synonym = synonyms['Synonym 1 for Meaning 1']\n",
    "                alter_word_synonym = synonyms['Synonym 2 for Meaning 2']\n",
    "                if ID not in record_syn:\n",
    "                    record_syn[ID] = dict()\n",
    "                record_syn[ID].update({key_syn: {'pun_word_synonym':pun_word_synonym,\n",
    "                                                 'alter_word_synonym':alter_word_synonym}})\n",
    "            except:\n",
    "                print(ID, out)\n",
    "        if save:\n",
    "            save_json_file(record_syn, path)"
   ],
   "metadata": {
    "collapsed": false,
    "ExecuteTime": {
     "start_time": "2024-04-19T17:37:25.925367Z",
     "end_time": "2024-04-19T17:37:25.940960Z"
    }
   }
  },
  {
   "cell_type": "markdown",
   "source": [
    "## Function of Evaluating Generation"
   ],
   "metadata": {
    "collapsed": false
   }
  },
  {
   "cell_type": "markdown",
   "source": [
    "### By scorer"
   ],
   "metadata": {
    "collapsed": false
   }
  },
  {
   "cell_type": "code",
   "execution_count": 8,
   "outputs": [],
   "source": [
    "def evaluate_generation_by_scorer(scorer:GenerationScorer, dataset, generations, synonyms,\n",
    "                                  save:bool=False, path:str='pun_generation_detailed_indicators.json'):\n",
    "    \"\"\"\n",
    "    Calculate various indicators for the generated sentence \\n\n",
    "    Indicators from previous papers: Ambiguity, Distinctiveness, Surprise, Unusualness \\n\n",
    "    Other indicators: Text length, Incorporation of pun & contextual words, Overlap rate\n",
    "    \"\"\"\n",
    "    def get_punchline_elements(data:dict):\n",
    "        # Get pun index, pun word, alternative word, etc. from data\n",
    "        pun_ind = int(data['pun_word_ind'].split('_')[-1]) - 1\n",
    "        punchline = data['human_text'].split(' ')[pun_ind]\n",
    "        pun_word = data['pun_word'].split(' ')[0]\n",
    "        alter_word = data['alter_word'].split(' ')[0]\n",
    "        context_words = data['human_keywords']\n",
    "        return pun_ind, punchline, pun_word, alter_word, context_words\n",
    "\n",
    "    def cal_previous_indicators(scorer:GenerationScorer, gen_text:str, puns:list, pun_ind:int=None):\n",
    "        # Calculate indicators from previous papers\n",
    "        scorer.change(text=gen_text, meanings=puns, pun_ind=pun_ind)\n",
    "        ambiguity = scorer.ambiguity()\n",
    "        distinctiveness = scorer.distinctiveness()\n",
    "        surprise, unusualness = scorer.surprise()\n",
    "        return ambiguity, distinctiveness, surprise, unusualness\n",
    "\n",
    "    def cal_other_indicators(human_text:str, gen_text:str, puns:list, contexts:list=None):\n",
    "        # Calculate other indicators\n",
    "        is_az = lambda x: bool(re.search('[a-zA-Z]', x))\n",
    "        # Average length\n",
    "        gen_tokens = [token for token in tokenize(text=gen_text, lemma=True) if is_az(token)]\n",
    "        text_length = len(gen_tokens)\n",
    "        # Incorporation numbers of pun\n",
    "        punchline = puns[0]\n",
    "        puns = [tokenize(text=punchline, lemma=True)[0]] + puns\n",
    "        incorp_pun_nums = [sum([1 for token in gen_tokens if token==word]) for word in puns]\n",
    "        incorp_pun_nums = max(incorp_pun_nums[0:3]) + sum(incorp_pun_nums[3:])\n",
    "        if contexts is not None:\n",
    "            # Incorporation rate of contextual words\n",
    "            contexts_tokens = [[token for token in tokenize(text=context, lemma=True) if is_az(token)]\n",
    "                               for context in contexts]\n",
    "            incorp_contexts1 = [(1 if ' '.join(cont) in ' '.join(gen_tokens) else 0) for cont in contexts_tokens ]\n",
    "            incorp_contexts2 = [(1 if context in gen_text.lower() else 0) for context in contexts ]\n",
    "            incorp_contexts_rate = sum([max(i1,i2) for i1,i2 in zip(incorp_contexts1, incorp_contexts2)])/len(contexts)\n",
    "            # Remove the words in contexts and then calculate the Overlap rate\n",
    "            human_tokens = [token for token in tokenize(text=human_text, lemma=True) if is_az(token)]\n",
    "            temp = []\n",
    "            for cont in contexts_tokens:\n",
    "                temp.extend(cont)\n",
    "            contexts_tokens = temp\n",
    "            intersection = (set(gen_tokens)&set(human_tokens))-set(contexts_tokens)\n",
    "            union = (set(gen_tokens)|set(human_tokens))-set(contexts_tokens)\n",
    "            if len(union) != 0:\n",
    "                overlap_rate = len(intersection) / len(union)\n",
    "            else:\n",
    "                overlap_rate = 0\n",
    "            return text_length, incorp_pun_nums, incorp_contexts_rate, overlap_rate\n",
    "        else:\n",
    "            # Remove the words in puns and then calculate the Overlap rate\n",
    "            human_tokens = [token for token in tokenize(text=human_text, lemma=True) if is_az(token)]\n",
    "            intersection = (set(gen_tokens)&set(human_tokens))-set(puns)\n",
    "            union = (set(gen_tokens)|set(human_tokens))-set(puns)\n",
    "            if len(union) != 0:\n",
    "                overlap_rate = len(intersection) / len(union)\n",
    "            else:\n",
    "                overlap_rate = 0\n",
    "            return text_length, incorp_pun_nums, None, overlap_rate\n",
    "\n",
    "    def extend_dict(given_dict, keys):\n",
    "        # Create a null value based on the keys\n",
    "        temp = given_dict\n",
    "        for key in keys:\n",
    "            if key not in temp:\n",
    "                temp[key] = dict()\n",
    "            temp = temp[key]\n",
    "        return given_dict\n",
    "\n",
    "    cut = lambda x: x if x is None else round(x, 6)\n",
    "    path = './results/' + path\n",
    "    if os.path.exists(path):\n",
    "        record = load_json_file(path)\n",
    "    else:\n",
    "        record = dict()\n",
    "    IDs = list(generations.keys())\n",
    "    writers = list(generations[IDs[0]].keys())\n",
    "    for writer in writers:\n",
    "        # Part of human text\n",
    "        if 'human' in writer:\n",
    "            IDs_loaded = []\n",
    "            for ID in record:\n",
    "                if record[ID].get(writer, False):\n",
    "                    IDs_loaded.append(ID)\n",
    "            print('*'*30, writer ,'*'*30)\n",
    "            for ID in tqdm(IDs):\n",
    "                if ID in IDs_loaded:\n",
    "                    continue\n",
    "                data = dataset[ID]\n",
    "                pun_ind, punchline, pun_word, alter_word, context_words = get_punchline_elements(data=data)\n",
    "                human_text = data['human_text']\n",
    "                gen_text = generations[ID][writer]\n",
    "                # Indicators from previous papers\n",
    "                pun_word_synonym = synonyms[ID]['gpt-4-1106-preview_synonyms']['pun_word_synonym']\n",
    "                alter_word_synonym = synonyms[ID]['gpt-4-1106-preview_synonyms']['alter_word_synonym']\n",
    "                if 'het' in ID:\n",
    "                    puns = [punchline, pun_word, alter_word]\n",
    "                else:\n",
    "                    puns = [punchline, pun_word_synonym, alter_word_synonym]\n",
    "                ambiguity, distinctiveness, surprise, unusualness = \\\n",
    "                    cal_previous_indicators(scorer, gen_text, puns, pun_ind)\n",
    "                # Other indicators\n",
    "                if 'het' in ID and pun_word != alter_word:\n",
    "                    puns = [punchline, pun_word, alter_word]\n",
    "                else:\n",
    "                    puns = [punchline, pun_word]\n",
    "                text_length, incorp_pun_nums, incorp_contexts_rate, overlap_rate =\\\n",
    "                    cal_other_indicators(human_text, gen_text, puns)\n",
    "                # Record\n",
    "                record = extend_dict(record, [ID, writer])\n",
    "                record[ID][writer].update(\n",
    "                    {'ambiguity':cut(ambiguity), 'distinctiveness':cut(distinctiveness),\n",
    "                     'surprise':cut(surprise), 'unusualness':cut(unusualness),\n",
    "                     'text_length':cut(text_length), 'incorp_pun_nums':cut(incorp_pun_nums),\n",
    "                     'incorp_contexts_rate':cut(incorp_contexts_rate),'overlap_rate':cut(overlap_rate)})\n",
    "                if save:\n",
    "                    save_json_file(record, path)\n",
    "        # Part of model text\n",
    "        else:\n",
    "            methods = list(generations[IDs[0]][writer].keys())\n",
    "            for method in methods:\n",
    "                IDs_loaded = []\n",
    "                for ID in record:\n",
    "                    if record[ID].get(writer, False) and \\\n",
    "                            record[ID][writer].get(method, False):\n",
    "                        IDs_loaded.append(ID)\n",
    "                print('*'*30, writer, method, '*'*30)\n",
    "                for ID in tqdm(IDs):\n",
    "                    if ID in IDs_loaded:\n",
    "                        continue\n",
    "                    data = dataset[ID]\n",
    "                    pun_ind, punchline, pun_word, alter_word, context_words = get_punchline_elements(data=data)\n",
    "                    human_text = data['human_text']\n",
    "                    gen_text = generations[ID][writer][method]\n",
    "                    # Indicators from previous papers\n",
    "                    pun_word_synonym = synonyms[ID]['gpt-4-1106-preview_synonyms']['pun_word_synonym']\n",
    "                    alter_word_synonym = synonyms[ID]['gpt-4-1106-preview_synonyms']['alter_word_synonym']\n",
    "                    if 'het' in ID:\n",
    "                        puns = [punchline, pun_word, alter_word]\n",
    "                    else:\n",
    "                        puns = [punchline, pun_word_synonym, alter_word_synonym]\n",
    "                    ambiguity, distinctiveness, surprise, unusualness = \\\n",
    "                        cal_previous_indicators(scorer, gen_text, puns)\n",
    "                    # Other indicators\n",
    "                    if 'het' in ID and pun_word != alter_word:\n",
    "                        puns = [punchline, pun_word, alter_word]\n",
    "                    else:\n",
    "                        puns = [punchline, pun_word]\n",
    "                    if method == 'method 3' or method == 'method 4':\n",
    "                        text_length, incorp_pun_nums, incorp_contexts_rate, overlap_rate = \\\n",
    "                            cal_other_indicators(human_text, gen_text, puns, context_words)\n",
    "                    else:\n",
    "                        text_length, incorp_pun_nums, incorp_contexts_rate, overlap_rate = \\\n",
    "                            cal_other_indicators(human_text, gen_text, puns)\n",
    "                    # Record\n",
    "                    record = extend_dict(record, [ID, writer, method])\n",
    "                    record[ID][writer][method].update(\n",
    "                        {'ambiguity':cut(ambiguity), 'distinctiveness':cut(distinctiveness),\n",
    "                         'surprise':cut(surprise), 'unusualness':cut(unusualness),\n",
    "                         'text_length':cut(text_length), 'incorp_pun_nums':cut(incorp_pun_nums),\n",
    "                         'incorp_contexts_rate':cut(incorp_contexts_rate),'overlap_rate':cut(overlap_rate)})\n",
    "                    if save:\n",
    "                        save_json_file(record, path)"
   ],
   "metadata": {
    "collapsed": false,
    "ExecuteTime": {
     "start_time": "2024-04-19T17:37:25.940960Z",
     "end_time": "2024-04-19T17:37:25.956649Z"
    }
   }
  },
  {
   "cell_type": "markdown",
   "source": [
    "### By detection"
   ],
   "metadata": {
    "collapsed": false
   }
  },
  {
   "cell_type": "code",
   "execution_count": 9,
   "outputs": [],
   "source": [
    "def evaluate_generation_by_detection(model, generations, batch_size:int=1,\n",
    "                                     save:bool=False, path:str='pun_generation_detailed_indicators.json'):\n",
    "    \"\"\"\n",
    "    Detection of generated sentences by SOTA llm\n",
    "    \"\"\"\n",
    "    def parse_output(output:str):\n",
    "        # Parse output and get the result\n",
    "        try:\n",
    "            output = output[output.index('{'): output.index('}')+1]\n",
    "        except:\n",
    "            output = output\n",
    "        try:\n",
    "            output = eval(output)\n",
    "            choice = output['Choice']\n",
    "        except:\n",
    "            try:\n",
    "                choice = output.split('The given text is a')[-1]\n",
    "            except:\n",
    "                choice = 'No-result'\n",
    "        choice = choice.lower()\n",
    "        if 'non-pun' in choice:\n",
    "            judge = 0\n",
    "        elif 'pun' in choice:\n",
    "            judge = 1\n",
    "        else:\n",
    "            judge = -1\n",
    "        return judge\n",
    "\n",
    "    def extend_dict(given_dict, keys):\n",
    "        # Create a null value based on the keys\n",
    "        temp = given_dict\n",
    "        for key in keys:\n",
    "            if key not in temp:\n",
    "                temp[key] = dict()\n",
    "            temp = temp[key]\n",
    "        return given_dict\n",
    "\n",
    "    path = './results/' + path\n",
    "    if os.path.exists(path):\n",
    "        record = load_json_file(path)\n",
    "    else:\n",
    "        record = dict()\n",
    "    # [A]. Construct the prompt\n",
    "    definition = \"\"\"<*Definition*>\\nPuns are a form of wordplay exploiting different meanings of a word or similar-sounding words, while non-puns are jokes or statements that don't rely on such linguistic ambiguities.\\n\\n\"\"\"\n",
    "    instruction = \"\"\"<*Instruction*>\\nDetermine whether the given Text is a pun. You should either say \"The given text is a pun\" or say \"The given text is a non-pun\". You must output the current status in a parsable JSON format. An example output looks like:\\n{{\"Choice\": \"The given text is a XXX\"}}\"\"\"\n",
    "    testing = \"\\n\\n<*Your Response*>\\nText: {text}\\nOutput:\"\n",
    "    prompt_string = definition + instruction + testing\n",
    "    chat_prompt = ChatPromptTemplate.from_template(prompt_string)\n",
    "\n",
    "    # [B]. Call LLM to respond\n",
    "    model_name = model.model_name\n",
    "    key_det = f'{model_name}_judge'\n",
    "    IDs = list(generations.keys())\n",
    "    writers = list(generations[IDs[0]].keys())\n",
    "    all_ind = list(range(0,len(IDs)))\n",
    "    batch_ind = list(range(0,len(IDs),batch_size))\n",
    "    for writer in writers:\n",
    "        # Part of human text\n",
    "        if 'human' in writer:\n",
    "            IDs_loaded = []\n",
    "            for ID in record:\n",
    "                if record[ID].get(writer, False) and \\\n",
    "                        (key_det in record[ID][writer]):\n",
    "                    IDs_loaded.append(ID)\n",
    "            print('*'*30, writer ,'*'*30)\n",
    "            for ind in tqdm(all_ind):\n",
    "                if ind not in batch_ind:\n",
    "                    continue\n",
    "                IDs_batch = IDs[ind: ind+batch_size]\n",
    "                # Remove the data that has already been run\n",
    "                IDs_batch = list(set(IDs_batch)-set(IDs_loaded))\n",
    "                if len(IDs_batch) == 0:\n",
    "                    continue\n",
    "                _inputs = []\n",
    "                for ID in IDs_batch:\n",
    "                    text = generations[ID][writer]\n",
    "                    _inputs.append(chat_prompt.format_messages(text=text))\n",
    "                _outputs = [out.content for out in model.batch(_inputs)]\n",
    "                # print(_inputs[0][0].content)\n",
    "                # print(_outputs[0])\n",
    "                # print()\n",
    "                for ID,out in zip(IDs_batch,_outputs):\n",
    "                    detection = parse_output(out)\n",
    "                    record = extend_dict(record, [ID, writer])\n",
    "                    record[ID][writer].update({key_det: detection})\n",
    "                if save:\n",
    "                    save_json_file(record, path)\n",
    "        # Part of model text\n",
    "        else:\n",
    "            methods = list(generations[IDs[0]][writer].keys())\n",
    "            for method in methods:\n",
    "                IDs_loaded = []\n",
    "                for ID in record:\n",
    "                    if record[ID].get(writer, False) and \\\n",
    "                            record[ID][writer].get(method, False) and \\\n",
    "                            (key_det in record[ID][writer][method]):\n",
    "                        IDs_loaded.append(ID)\n",
    "                print('*'*30, writer, method, '*'*30)\n",
    "                for ind in tqdm(all_ind):\n",
    "                    if ind not in batch_ind:\n",
    "                        continue\n",
    "                    IDs_batch = IDs[ind: ind+batch_size]\n",
    "                    # Remove the data that has already been run\n",
    "                    IDs_batch = list(set(IDs_batch)-set(IDs_loaded))\n",
    "                    if len(IDs_batch) == 0:\n",
    "                        continue\n",
    "                    _inputs = []\n",
    "                    for ID in IDs_batch:\n",
    "                        text = generations[ID][writer][method]\n",
    "                        _inputs.append(chat_prompt.format_messages(text=text))\n",
    "                    _outputs = [out.content for out in model.batch(_inputs)]\n",
    "                    # print(_inputs[0][0].content)\n",
    "                    # print(_outputs[0])\n",
    "                    # print()\n",
    "                    for ID,out in zip(IDs_batch,_outputs):\n",
    "                        detection = parse_output(out)\n",
    "                        record = extend_dict(record, [ID, writer, method])\n",
    "                        record[ID][writer][method].update({key_det: detection})\n",
    "                    if save:\n",
    "                        save_json_file(record, path)"
   ],
   "metadata": {
    "collapsed": false,
    "ExecuteTime": {
     "start_time": "2024-04-19T17:37:25.956649Z",
     "end_time": "2024-04-19T17:37:25.972265Z"
    }
   }
  },
  {
   "cell_type": "markdown",
   "source": [
    "### Summary"
   ],
   "metadata": {
    "collapsed": false
   }
  },
  {
   "cell_type": "code",
   "execution_count": 10,
   "outputs": [],
   "source": [
    "def generation_eval_summary(evaluations, drop_rate:float=0.02, overlap_limit:float=0.5, save:bool=False,\n",
    "                            path='pun_generation_metrics.json'):\n",
    "    \"\"\"\n",
    "    Count the average values of each indicator and discard a certain percentage of extreme values\n",
    "    \"\"\"\n",
    "    def processing(data, drop_rate:float):\n",
    "        # Remove missing values, remove extreme values, and calculate averages\n",
    "        def drop_extremes(data:list, rate:float):\n",
    "            data = sorted(data)\n",
    "            margin = int(len(data) * rate * 0.5)\n",
    "            data = data[margin:len(data)-margin]\n",
    "            return data\n",
    "        mean = lambda x,y=4: None if len(x)==0 else round(sum(x)/len(x),y)\n",
    "        # Part 1\n",
    "        text_length = data['text_length']\n",
    "        incorp_pun = [(1 if d > 0 else 0) for d in data['incorp_pun_nums'] ]\n",
    "        incorp_one_pun = [(1 if d == 1 else 0) for d in data['incorp_pun_nums'] ]\n",
    "        incorp_contexts_rate = [d for d in data['incorp_contexts_rate'] if d is not None]\n",
    "        overlap_rate = data['overlap_rate']\n",
    "        detection = data['gpt-4-0613_judge']\n",
    "        success = [(1 if (i==1 and d==1) else 0) for i,d in zip(incorp_one_pun,detection)]\n",
    "        strict_success = [(1 if (o<overlap_limit and s==1) else 0) for o,s in zip(overlap_rate,success)]\n",
    "        # Part 2\n",
    "        ambiguity = [d for d,i in zip(data['ambiguity'],incorp_pun) if (d is not None) and i==1]\n",
    "        distinctiveness = [d for d,i in zip(data['distinctiveness'],incorp_pun) if (d is not None) and i==1]\n",
    "        surprise = [d for d,i in zip(data['surprise'],incorp_pun) if i==1]\n",
    "        unusualness = [d for d,i in zip(data['unusualness'],incorp_pun) if i==1]\n",
    "        if drop_rate > 0:\n",
    "            ambiguity = drop_extremes(ambiguity, drop_rate)\n",
    "            distinctiveness = drop_extremes(distinctiveness, drop_rate)\n",
    "            surprise = drop_extremes(surprise, drop_rate)\n",
    "            unusualness = drop_extremes(unusualness, drop_rate)\n",
    "        results = {'avg_len':mean(text_length,2),\n",
    "                   'avg_ambiguity':mean(ambiguity), 'avg_distinctiveness':mean(distinctiveness),\n",
    "                   'avg_surprise':mean(surprise), 'avg_unusualness':mean(unusualness),\n",
    "                   'avg_incorp_pun':mean(incorp_pun), 'avg_incorp_one_pun':mean(incorp_one_pun),\n",
    "                   'avg_incorp_contexts':mean(incorp_contexts_rate), 'avg_overlap':mean(overlap_rate),\n",
    "                   'avg_success':mean(success), f'avg_strict_success':mean(strict_success)}\n",
    "        return results\n",
    "\n",
    "    if 'results' not in path:\n",
    "        path = './results/' + path\n",
    "    IDs = list(evaluations.keys())\n",
    "    writers = list(evaluations[IDs[0]].keys())\n",
    "    key_eval = ['ambiguity', 'distinctiveness', 'surprise', 'unusualness', 'text_length',\n",
    "                'incorp_pun_nums', 'incorp_contexts_rate', 'overlap_rate', 'gpt-4-0613_judge']\n",
    "    summary = dict()\n",
    "    for writer in writers:\n",
    "        # Part of human text\n",
    "        if 'human' in writer:\n",
    "            metrics_hom = {key:[] for key in key_eval}\n",
    "            metrics_het = {key:[] for key in key_eval}\n",
    "            for ID in IDs:\n",
    "                indicators = evaluations[ID][writer]\n",
    "                for key in key_eval:\n",
    "                    if 'hom' in ID:\n",
    "                        metrics_hom[key].append(indicators[key])\n",
    "                    else:\n",
    "                        metrics_het[key].append(indicators[key])\n",
    "            metrics_hom = processing(metrics_hom, drop_rate)\n",
    "            metrics_het = processing(metrics_het, drop_rate)\n",
    "            summary[writer] = {'hom':metrics_hom, 'het':metrics_het}\n",
    "        # Part of model text\n",
    "        else:\n",
    "            methods = list(evaluations[IDs[0]][writer].keys())\n",
    "            for method in methods:\n",
    "                metrics_hom = {key:[] for key in key_eval}\n",
    "                metrics_het = {key:[] for key in key_eval}\n",
    "                for ID in IDs:\n",
    "                    indicators = evaluations[ID][writer][method]\n",
    "                    for key in key_eval:\n",
    "                        if 'hom' in ID:\n",
    "                            metrics_hom[key].append(indicators[key])\n",
    "                        else:\n",
    "                            metrics_het[key].append(indicators[key])\n",
    "                metrics_hom = processing(metrics_hom, drop_rate)\n",
    "                metrics_het = processing(metrics_het, drop_rate)\n",
    "                summary[writer+method.split(' ')[-1]] = {'hom':metrics_hom, 'het':metrics_het}\n",
    "    print(json.dumps(summary, indent=4))\n",
    "    if save:\n",
    "        save_json_file(summary, path)"
   ],
   "metadata": {
    "collapsed": false,
    "ExecuteTime": {
     "start_time": "2024-04-19T17:37:25.972265Z",
     "end_time": "2024-04-19T17:37:25.988936Z"
    }
   }
  },
  {
   "cell_type": "markdown",
   "source": [
    "## Dataset and Examples"
   ],
   "metadata": {
    "collapsed": false
   }
  },
  {
   "cell_type": "code",
   "execution_count": 11,
   "outputs": [],
   "source": [
    "hom_path = r'./dataset/hom_dataset.json'\n",
    "het_path = r'./dataset/het_dataset.json'\n",
    "hom_punDataset, hom_nonpunDataset = splitDataset(hom_path, puntype='hom')\n",
    "het_punDataset, het_nonpunDataset = splitDataset(het_path, puntype='het')\n",
    "pun_dataset = hom_punDataset.copy()\n",
    "pun_dataset.update(het_punDataset)"
   ],
   "metadata": {
    "collapsed": false,
    "ExecuteTime": {
     "start_time": "2024-04-19T17:37:25.988936Z",
     "end_time": "2024-04-19T17:37:26.003988Z"
    }
   }
  },
  {
   "cell_type": "code",
   "execution_count": 12,
   "outputs": [],
   "source": [
    "examples = {\n",
    "    \"hom_705\":{\n",
    "        \"pun_word\": \"toll\",\n",
    "        \"pun_sense\": \"a fee levied for the use of roads or bridges (used for maintenance)\",\n",
    "        \"alter_word\": \"toll\",\n",
    "        \"alter_sense\": \"value measured by what must be given or done or undergone to obtain something\",\n",
    "        \"punchline\": \"toll\",\n",
    "        \"human_text\":\"Driving on so many turnpikes was taking its toll.\",\n",
    "        \"human_keywords\": [\"Driving\", \"many\", \"turnpikes\", \"taking its toll\"],\n",
    "        \"pun_word_synonym\": \"fee\",\n",
    "        \"alter_word_synonym\": \"impact\"\n",
    "    },\n",
    "    \"hom_488\":{\n",
    "        \"pun_word\": \"bore\",\n",
    "        \"pun_sense\": \"make a hole, especially with a pointed power or hand tool\",\n",
    "        \"alter_word\": \"bore\",\n",
    "        \"alter_sense\": \"cause to be bored\",\n",
    "        \"punchline\": \"bored\",\n",
    "        \"human_text\":\"A carpenter sat on his drill and was bored to tears.\",\n",
    "        \"human_keywords\": [\"carpenter\", \"sat\", \"drill\", \"bored to tears\"],\n",
    "        \"pun_word_synonym\": \"drilled\",\n",
    "        \"alter_word_synonym\": \"wearied\"\n",
    "    },\n",
    "    \"hom_1556\":{\n",
    "        \"pun_word\": \"foil\",\n",
    "        \"pun_sense\": \"a piece of thin and flexible sheet metal\",\n",
    "        \"alter_word\": \"foil\",\n",
    "        \"alter_sense\": \"hinder or prevent (the efforts, plans, or desires) of\",\n",
    "        \"punchline\": \"foiled\",\n",
    "        \"human_text\":\"One leftover said to another 'foiled again.'\",\n",
    "        \"human_keywords\": [\"leftover\", \"foiled\", \"again\"],\n",
    "        \"pun_word_synonym\": \"wrapped\",\n",
    "        \"alter_word_synonym\": \"thwarted\"\n",
    "    },\n",
    "    \"het_633\": {\n",
    "        \"pun_word\": \"sagely\",\n",
    "        \"pun_sense\": \"in a wise manner\",\n",
    "        \"alter_word\": \"sage\",\n",
    "        \"alter_sense\": \"aromatic fresh or dried grey-green leaves used widely as seasoning for meats and fowl and game etc\",\n",
    "        \"punchline\": \"sagely\",\n",
    "        \"human_text\": \"This fowl has been stuffed, said Tom sagely.\",\n",
    "        \"human_keywords\": [\"fowl\", \"stuffed\", \"sagely\"],\n",
    "        \"pun_word_synonym\": \"wisely\",\n",
    "        \"alter_word_synonym\": \"herb\"\n",
    "    },\n",
    "    \"het_530\": {\n",
    "        \"pun_word\": \"toll\",\n",
    "        \"pun_sense\": \"ring slowly\",\n",
    "        \"alter_word\": \"tell off\",\n",
    "        \"alter_sense\": \"reprimand\",\n",
    "        \"punchline\": \"tolled\",\n",
    "        \"human_text\": \"A tangled bell ringer tolled himself off.\",\n",
    "        \"human_keywords\": [\"tangled\", \"bell ringer\", \"tolled himself off\"],\n",
    "        \"pun_word_synonym\": \"chimed\",\n",
    "        \"alter_word_synonym\": \"scolded\"\n",
    "    },\n",
    "    \"het_325\": {\n",
    "        \"pun_word\": \"c\",\n",
    "        \"pun_sense\": \"the 3rd letter of the Roman alphabet\",\n",
    "        \"alter_word\": \"sea\",\n",
    "        \"alter_sense\": \"a division of an ocean or a large body of salt water partially enclosed by land\",\n",
    "        \"punchline\": \"c\",\n",
    "        \"human_text\": \"An illiterate fisherman was lost at c.\",\n",
    "        \"human_keywords\": [\"illiterate\", \"fisherman\", \"c\"],\n",
    "        \"pun_word_synonym\": \"letter\",\n",
    "        \"alter_word_synonym\": \"ocean\"\n",
    "    }\n",
    "}"
   ],
   "metadata": {
    "collapsed": false,
    "ExecuteTime": {
     "start_time": "2024-04-19T17:37:26.003988Z",
     "end_time": "2024-04-19T17:37:26.019671Z"
    }
   }
  },
  {
   "cell_type": "markdown",
   "source": [
    "## Evaluate Generation"
   ],
   "metadata": {
    "collapsed": false
   }
  },
  {
   "cell_type": "markdown",
   "source": [
    "### Find synonyms"
   ],
   "metadata": {
    "collapsed": false
   }
  },
  {
   "cell_type": "code",
   "execution_count": 12,
   "outputs": [],
   "source": [
    "# Connect gpt-4-0613\n",
    "gpt4_name = 'gpt-4-0613'\n",
    "temperature = 0.0\n",
    "openai_api_key = get_openai_api_key()  # use your api key\n",
    "gpt4 = ChatOpenAI(model_name=gpt4_name, temperature=temperature,\n",
    "                  openai_api_key=openai_api_key, request_timeout=120)"
   ],
   "metadata": {
    "collapsed": false,
    "ExecuteTime": {
     "start_time": "2024-03-18T14:21:22.304236Z",
     "end_time": "2024-03-18T14:21:22.399560Z"
    }
   }
  },
  {
   "cell_type": "code",
   "execution_count": 13,
   "outputs": [
    {
     "name": "stderr",
     "output_type": "stream",
     "text": [
      "100%|██████████| 1457/1457 [09:23<00:00,  2.59it/s]\n"
     ]
    }
   ],
   "source": [
    "call_llm_to_find_synonym(model=gpt4, dataset=pun_dataset, examples=examples, batch_size=10, save=True)"
   ],
   "metadata": {
    "collapsed": false,
    "ExecuteTime": {
     "start_time": "2024-03-18T14:21:23.978963Z",
     "end_time": "2024-03-18T14:30:47.311721Z"
    }
   }
  },
  {
   "cell_type": "markdown",
   "source": [
    "### By scorer"
   ],
   "metadata": {
    "collapsed": false
   }
  },
  {
   "cell_type": "code",
   "execution_count": 13,
   "outputs": [
    {
     "name": "stdout",
     "output_type": "stream",
     "text": [
      "| dictionary: 267744 types\n"
     ]
    }
   ],
   "source": [
    "# Scorer of pun generation\n",
    "rootpath = os.path.dirname(os.path.dirname(os.getcwd()))\n",
    "skipgram_path = r'nlp_models/skipgram/model.pt'\n",
    "vocab_path = r'nlp_models/skipgram/dict.txt'\n",
    "dict_path = r'nlp_models/wiki103_fconv_lm/dict.txt'\n",
    "lm_path = r'nlp_models/wiki103_fconv_lm/wiki103.pt'\n",
    "skipgram_path = os.path.join(rootpath, skipgram_path)\n",
    "vocab_path = os.path.join(rootpath, vocab_path)\n",
    "dict_path = os.path.join(rootpath, dict_path)\n",
    "lm_path = os.path.join(rootpath, lm_path)\n",
    "\n",
    "skipgram = SkipGram.load_model(model_path=skipgram_path, vocab_path=vocab_path)\n",
    "unigram = UniGram.load_model(dict_path=dict_path)\n",
    "wiki_lm = LM.load_model(model_path=lm_path)\n",
    "scorer = GenerationScorer(embedding=skipgram, unigram=unigram, lm=wiki_lm)\n",
    "\n",
    "# glove300d_path = r'nlp_models/glove.6B/glove.6B.300d.txt'\n",
    "# glove300d_path = os.path.join(rootpath, glove300d_path)\n",
    "# glove300d = Glove.load_model(model_path=glove300d_path)\n",
    "# unigram = UniGram.load_model(dict_path=dict_path)\n",
    "# wiki_lm = LM.load_model(model_path=lm_path)\n",
    "# scorer = GenerationScorer(embedding=glove300d, unigram=unigram, lm=wiki_lm)"
   ],
   "metadata": {
    "collapsed": false,
    "ExecuteTime": {
     "start_time": "2024-04-19T17:37:33.727854Z",
     "end_time": "2024-04-19T17:37:40.157421Z"
    }
   }
  },
  {
   "cell_type": "code",
   "execution_count": 14,
   "outputs": [
    {
     "name": "stdout",
     "output_type": "stream",
     "text": [
      "****************************** human_text ******************************\n"
     ]
    },
    {
     "name": "stderr",
     "output_type": "stream",
     "text": [
      "100%|██████████| 1457/1457 [00:00<?, ?it/s]\n"
     ]
    },
    {
     "name": "stdout",
     "output_type": "stream",
     "text": [
      "****************************** gpt-3.5-turbo-1106_text method 0 ******************************\n"
     ]
    },
    {
     "name": "stderr",
     "output_type": "stream",
     "text": [
      "100%|██████████| 1457/1457 [00:00<00:00, 96913.92it/s]\n"
     ]
    },
    {
     "name": "stdout",
     "output_type": "stream",
     "text": [
      "****************************** gpt-3.5-turbo-1106_text method 1 ******************************\n"
     ]
    },
    {
     "name": "stderr",
     "output_type": "stream",
     "text": [
      "100%|██████████| 1457/1457 [00:00<00:00, 121007.11it/s]\n"
     ]
    },
    {
     "name": "stdout",
     "output_type": "stream",
     "text": [
      "****************************** gpt-3.5-turbo-1106_text method 2 ******************************\n"
     ]
    },
    {
     "name": "stderr",
     "output_type": "stream",
     "text": [
      "100%|██████████| 1457/1457 [00:00<?, ?it/s]\n"
     ]
    },
    {
     "name": "stdout",
     "output_type": "stream",
     "text": [
      "****************************** gpt-4-1106-preview_text method 1 ******************************\n"
     ]
    },
    {
     "name": "stderr",
     "output_type": "stream",
     "text": [
      "100%|██████████| 1457/1457 [00:00<00:00, 104004.58it/s]\n"
     ]
    },
    {
     "name": "stdout",
     "output_type": "stream",
     "text": [
      "****************************** gpt-4-1106-preview_text method 2 ******************************\n"
     ]
    },
    {
     "name": "stderr",
     "output_type": "stream",
     "text": [
      "100%|██████████| 1457/1457 [00:00<00:00, 93179.75it/s]\n"
     ]
    },
    {
     "name": "stdout",
     "output_type": "stream",
     "text": [
      "****************************** gemini-pro_text method 1 ******************************\n"
     ]
    },
    {
     "name": "stderr",
     "output_type": "stream",
     "text": [
      "100%|██████████| 1457/1457 [00:00<?, ?it/s]\n"
     ]
    },
    {
     "name": "stdout",
     "output_type": "stream",
     "text": [
      "****************************** gemini-pro_text method 2 ******************************\n"
     ]
    },
    {
     "name": "stderr",
     "output_type": "stream",
     "text": [
      "100%|██████████| 1457/1457 [00:00<?, ?it/s]\n"
     ]
    },
    {
     "name": "stdout",
     "output_type": "stream",
     "text": [
      "****************************** vicuna-7b-v1.5_text method 1 ******************************\n"
     ]
    },
    {
     "name": "stderr",
     "output_type": "stream",
     "text": [
      "100%|██████████| 1457/1457 [00:00<00:00, 90478.53it/s]\n"
     ]
    },
    {
     "name": "stdout",
     "output_type": "stream",
     "text": [
      "****************************** vicuna-7b-v1.5_text method 2 ******************************\n"
     ]
    },
    {
     "name": "stderr",
     "output_type": "stream",
     "text": [
      "100%|██████████| 1457/1457 [00:00<00:00, 93134.31it/s]\n"
     ]
    },
    {
     "name": "stdout",
     "output_type": "stream",
     "text": [
      "****************************** llama-2-7b-chat_text method 1 ******************************\n"
     ]
    },
    {
     "name": "stderr",
     "output_type": "stream",
     "text": [
      "100%|██████████| 1457/1457 [00:00<?, ?it/s]\n"
     ]
    },
    {
     "name": "stdout",
     "output_type": "stream",
     "text": [
      "****************************** llama-2-7b-chat_text method 2 ******************************\n"
     ]
    },
    {
     "name": "stderr",
     "output_type": "stream",
     "text": [
      "100%|██████████| 1457/1457 [00:00<00:00, 84194.66it/s]\n"
     ]
    },
    {
     "name": "stdout",
     "output_type": "stream",
     "text": [
      "****************************** mistral-7b-instruct-v0.2_text method 1 ******************************\n"
     ]
    },
    {
     "name": "stderr",
     "output_type": "stream",
     "text": [
      "100%|██████████| 1457/1457 [00:00<00:00, 104004.58it/s]\n"
     ]
    },
    {
     "name": "stdout",
     "output_type": "stream",
     "text": [
      "****************************** mistral-7b-instruct-v0.2_text method 2 ******************************\n"
     ]
    },
    {
     "name": "stderr",
     "output_type": "stream",
     "text": [
      "100%|██████████| 1457/1457 [00:00<?, ?it/s]\n"
     ]
    },
    {
     "name": "stdout",
     "output_type": "stream",
     "text": [
      "****************************** openchat-3.5-0106_text method 1 ******************************\n"
     ]
    },
    {
     "name": "stderr",
     "output_type": "stream",
     "text": [
      "100%|██████████| 1457/1457 [00:00<00:00, 93006.74it/s]\n"
     ]
    },
    {
     "name": "stdout",
     "output_type": "stream",
     "text": [
      "****************************** openchat-3.5-0106_text method 2 ******************************\n"
     ]
    },
    {
     "name": "stderr",
     "output_type": "stream",
     "text": [
      "100%|██████████| 1457/1457 [00:00<00:00, 165585.57it/s]\n"
     ]
    },
    {
     "name": "stdout",
     "output_type": "stream",
     "text": [
      "****************************** claude-3-opus-20240229_text method 1 ******************************\n"
     ]
    },
    {
     "name": "stderr",
     "output_type": "stream",
     "text": [
      "100%|██████████| 1457/1457 [00:00<?, ?it/s]\n"
     ]
    },
    {
     "name": "stdout",
     "output_type": "stream",
     "text": [
      "****************************** claude-3-opus-20240229_text method 2 ******************************\n"
     ]
    },
    {
     "name": "stderr",
     "output_type": "stream",
     "text": [
      "100%|██████████| 1457/1457 [00:00<?, ?it/s]\n"
     ]
    }
   ],
   "source": [
    "generation_path = r'./results/pun_generation.json'\n",
    "pun_generation = load_json_file(generation_path)\n",
    "synonym_path = './dataset/synonyms.json'\n",
    "synonyms = load_json_file(synonym_path)\n",
    "\n",
    "evaluate_generation_by_scorer(scorer=scorer, dataset=pun_dataset, generations=pun_generation, synonyms=synonyms, save=True)"
   ],
   "metadata": {
    "collapsed": false,
    "ExecuteTime": {
     "start_time": "2024-04-19T17:37:43.463033Z",
     "end_time": "2024-04-19T17:37:43.975000Z"
    }
   }
  },
  {
   "cell_type": "markdown",
   "source": [
    "### By detection"
   ],
   "metadata": {
    "collapsed": false
   }
  },
  {
   "cell_type": "code",
   "execution_count": 15,
   "outputs": [],
   "source": [
    "# Connect gpt-4-0613\n",
    "gpt4_name = 'gpt-4-0613'\n",
    "temperature = 0.0\n",
    "openai_api_key = get_openai_api_key()  # use your api key\n",
    "gpt4 = ChatOpenAI(model_name=gpt4_name, temperature=temperature,\n",
    "                  openai_api_key=openai_api_key, request_timeout=120)"
   ],
   "metadata": {
    "collapsed": false,
    "ExecuteTime": {
     "start_time": "2024-04-19T17:37:53.289320Z",
     "end_time": "2024-04-19T17:37:53.338545Z"
    }
   }
  },
  {
   "cell_type": "code",
   "execution_count": 16,
   "outputs": [
    {
     "name": "stdout",
     "output_type": "stream",
     "text": [
      "****************************** human_text ******************************\n"
     ]
    },
    {
     "name": "stderr",
     "output_type": "stream",
     "text": [
      "100%|██████████| 1457/1457 [00:00<00:00, 413051.77it/s]\n"
     ]
    },
    {
     "name": "stdout",
     "output_type": "stream",
     "text": [
      "****************************** gpt-3.5-turbo-1106_text method 0 ******************************\n"
     ]
    },
    {
     "name": "stderr",
     "output_type": "stream",
     "text": [
      "100%|██████████| 1457/1457 [00:00<00:00, 180497.41it/s]\n"
     ]
    },
    {
     "name": "stdout",
     "output_type": "stream",
     "text": [
      "****************************** gpt-3.5-turbo-1106_text method 1 ******************************\n"
     ]
    },
    {
     "name": "stderr",
     "output_type": "stream",
     "text": [
      "100%|██████████| 1457/1457 [00:00<00:00, 160704.26it/s]\n"
     ]
    },
    {
     "name": "stdout",
     "output_type": "stream",
     "text": [
      "****************************** gpt-3.5-turbo-1106_text method 2 ******************************\n"
     ]
    },
    {
     "name": "stderr",
     "output_type": "stream",
     "text": [
      "100%|██████████| 1457/1457 [00:00<?, ?it/s]\n"
     ]
    },
    {
     "name": "stdout",
     "output_type": "stream",
     "text": [
      "****************************** gpt-4-1106-preview_text method 1 ******************************\n"
     ]
    },
    {
     "name": "stderr",
     "output_type": "stream",
     "text": [
      "100%|██████████| 1457/1457 [00:00<?, ?it/s]\n"
     ]
    },
    {
     "name": "stdout",
     "output_type": "stream",
     "text": [
      "****************************** gpt-4-1106-preview_text method 2 ******************************\n"
     ]
    },
    {
     "name": "stderr",
     "output_type": "stream",
     "text": [
      "100%|██████████| 1457/1457 [00:00<00:00, 93108.77it/s]\n"
     ]
    },
    {
     "name": "stdout",
     "output_type": "stream",
     "text": [
      "****************************** gemini-pro_text method 1 ******************************\n"
     ]
    },
    {
     "name": "stderr",
     "output_type": "stream",
     "text": [
      "100%|██████████| 1457/1457 [00:00<?, ?it/s]\n"
     ]
    },
    {
     "name": "stdout",
     "output_type": "stream",
     "text": [
      "****************************** gemini-pro_text method 2 ******************************\n"
     ]
    },
    {
     "name": "stderr",
     "output_type": "stream",
     "text": [
      "100%|██████████| 1457/1457 [00:00<00:00, 85985.86it/s]\n"
     ]
    },
    {
     "name": "stdout",
     "output_type": "stream",
     "text": [
      "****************************** vicuna-7b-v1.5_text method 1 ******************************\n"
     ]
    },
    {
     "name": "stderr",
     "output_type": "stream",
     "text": [
      "100%|██████████| 1457/1457 [00:00<?, ?it/s]\n"
     ]
    },
    {
     "name": "stdout",
     "output_type": "stream",
     "text": [
      "****************************** vicuna-7b-v1.5_text method 2 ******************************\n"
     ]
    },
    {
     "name": "stderr",
     "output_type": "stream",
     "text": [
      "100%|██████████| 1457/1457 [00:00<00:00, 95816.82it/s]\n"
     ]
    },
    {
     "name": "stdout",
     "output_type": "stream",
     "text": [
      "****************************** llama-2-7b-chat_text method 1 ******************************\n"
     ]
    },
    {
     "name": "stderr",
     "output_type": "stream",
     "text": [
      "100%|██████████| 1457/1457 [00:00<?, ?it/s]\n"
     ]
    },
    {
     "name": "stdout",
     "output_type": "stream",
     "text": [
      "****************************** llama-2-7b-chat_text method 2 ******************************\n"
     ]
    },
    {
     "name": "stderr",
     "output_type": "stream",
     "text": [
      "100%|██████████| 1457/1457 [00:00<00:00, 92354.56it/s]\n"
     ]
    },
    {
     "name": "stdout",
     "output_type": "stream",
     "text": [
      "****************************** mistral-7b-instruct-v0.2_text method 1 ******************************\n"
     ]
    },
    {
     "name": "stderr",
     "output_type": "stream",
     "text": [
      "100%|██████████| 1457/1457 [00:00<?, ?it/s]\n"
     ]
    },
    {
     "name": "stdout",
     "output_type": "stream",
     "text": [
      "****************************** mistral-7b-instruct-v0.2_text method 2 ******************************\n"
     ]
    },
    {
     "name": "stderr",
     "output_type": "stream",
     "text": [
      "100%|██████████| 1457/1457 [00:00<?, ?it/s]\n"
     ]
    },
    {
     "name": "stdout",
     "output_type": "stream",
     "text": [
      "****************************** openchat-3.5-0106_text method 1 ******************************\n"
     ]
    },
    {
     "name": "stderr",
     "output_type": "stream",
     "text": [
      "100%|██████████| 1457/1457 [00:00<?, ?it/s]\n"
     ]
    },
    {
     "name": "stdout",
     "output_type": "stream",
     "text": [
      "****************************** openchat-3.5-0106_text method 2 ******************************\n"
     ]
    },
    {
     "name": "stderr",
     "output_type": "stream",
     "text": [
      "100%|██████████| 1457/1457 [00:00<?, ?it/s]\n"
     ]
    },
    {
     "name": "stdout",
     "output_type": "stream",
     "text": [
      "****************************** claude-3-opus-20240229_text method 1 ******************************\n"
     ]
    },
    {
     "name": "stderr",
     "output_type": "stream",
     "text": [
      "100%|██████████| 1457/1457 [00:00<?, ?it/s]\n"
     ]
    },
    {
     "name": "stdout",
     "output_type": "stream",
     "text": [
      "****************************** claude-3-opus-20240229_text method 2 ******************************\n"
     ]
    },
    {
     "name": "stderr",
     "output_type": "stream",
     "text": [
      "100%|██████████| 1457/1457 [00:00<00:00, 86940.02it/s]\n"
     ]
    }
   ],
   "source": [
    "generation_path = r'./results/pun_generation.json'\n",
    "pun_generation = load_json_file(generation_path)\n",
    "evaluate_generation_by_detection(model=gpt4, generations=pun_generation, batch_size=10, save=True)"
   ],
   "metadata": {
    "collapsed": false,
    "ExecuteTime": {
     "start_time": "2024-04-19T17:37:55.150927Z",
     "end_time": "2024-04-19T17:37:55.495511Z"
    }
   }
  },
  {
   "cell_type": "markdown",
   "source": [
    "### Summary"
   ],
   "metadata": {
    "collapsed": false
   }
  },
  {
   "cell_type": "code",
   "execution_count": 17,
   "outputs": [
    {
     "name": "stdout",
     "output_type": "stream",
     "text": [
      "{\n",
      "    \"human_text\": {\n",
      "        \"hom\": {\n",
      "            \"avg_len\": 12.0,\n",
      "            \"avg_ambiguity\": 0.2246,\n",
      "            \"avg_distinctiveness\": 0.1291,\n",
      "            \"avg_surprise\": -0.0692,\n",
      "            \"avg_unusualness\": 5.5692,\n",
      "            \"avg_incorp_pun\": 0.9963,\n",
      "            \"avg_incorp_one_pun\": 0.9901,\n",
      "            \"avg_incorp_contexts\": null,\n",
      "            \"avg_overlap\": 1.0,\n",
      "            \"avg_success\": 0.9642,\n",
      "            \"avg_strict_success\": 0.0\n",
      "        },\n",
      "        \"het\": {\n",
      "            \"avg_len\": 12.37,\n",
      "            \"avg_ambiguity\": 0.1853,\n",
      "            \"avg_distinctiveness\": 0.2558,\n",
      "            \"avg_surprise\": 0.3229,\n",
      "            \"avg_unusualness\": 5.8512,\n",
      "            \"avg_incorp_pun\": 0.9907,\n",
      "            \"avg_incorp_one_pun\": 0.9845,\n",
      "            \"avg_incorp_contexts\": null,\n",
      "            \"avg_overlap\": 1.0,\n",
      "            \"avg_success\": 0.9304,\n",
      "            \"avg_strict_success\": 0.0\n",
      "        }\n",
      "    },\n",
      "    \"gpt-3.5-turbo-1106_text0\": {\n",
      "        \"hom\": {\n",
      "            \"avg_len\": 11.38,\n",
      "            \"avg_ambiguity\": 0.1948,\n",
      "            \"avg_distinctiveness\": 0.0365,\n",
      "            \"avg_surprise\": -0.6403,\n",
      "            \"avg_unusualness\": 4.6064,\n",
      "            \"avg_incorp_pun\": 0.9963,\n",
      "            \"avg_incorp_one_pun\": 0.9827,\n",
      "            \"avg_incorp_contexts\": null,\n",
      "            \"avg_overlap\": 0.0788,\n",
      "            \"avg_success\": 0.021,\n",
      "            \"avg_strict_success\": 0.021\n",
      "        },\n",
      "        \"het\": {\n",
      "            \"avg_len\": 11.76,\n",
      "            \"avg_ambiguity\": 0.1132,\n",
      "            \"avg_distinctiveness\": 0.0705,\n",
      "            \"avg_surprise\": -0.7344,\n",
      "            \"avg_unusualness\": 4.5882,\n",
      "            \"avg_incorp_pun\": 0.9938,\n",
      "            \"avg_incorp_one_pun\": 0.9784,\n",
      "            \"avg_incorp_contexts\": null,\n",
      "            \"avg_overlap\": 0.0644,\n",
      "            \"avg_success\": 0.0124,\n",
      "            \"avg_strict_success\": 0.0124\n",
      "        }\n",
      "    },\n",
      "    \"gpt-3.5-turbo-1106_text1\": {\n",
      "        \"hom\": {\n",
      "            \"avg_len\": 14.9,\n",
      "            \"avg_ambiguity\": 0.2195,\n",
      "            \"avg_distinctiveness\": 0.0637,\n",
      "            \"avg_surprise\": -0.2329,\n",
      "            \"avg_unusualness\": 4.8936,\n",
      "            \"avg_incorp_pun\": 0.8753,\n",
      "            \"avg_incorp_one_pun\": 0.7136,\n",
      "            \"avg_incorp_contexts\": null,\n",
      "            \"avg_overlap\": 0.0978,\n",
      "            \"avg_success\": 0.5889,\n",
      "            \"avg_strict_success\": 0.5889\n",
      "        },\n",
      "        \"het\": {\n",
      "            \"avg_len\": 12.26,\n",
      "            \"avg_ambiguity\": 0.2234,\n",
      "            \"avg_distinctiveness\": 0.0733,\n",
      "            \"avg_surprise\": 0.0721,\n",
      "            \"avg_unusualness\": 5.3832,\n",
      "            \"avg_incorp_pun\": 0.966,\n",
      "            \"avg_incorp_one_pun\": 0.5209,\n",
      "            \"avg_incorp_contexts\": null,\n",
      "            \"avg_overlap\": 0.0859,\n",
      "            \"avg_success\": 0.4405,\n",
      "            \"avg_strict_success\": 0.4374\n",
      "        }\n",
      "    },\n",
      "    \"gpt-3.5-turbo-1106_text2\": {\n",
      "        \"hom\": {\n",
      "            \"avg_len\": 12.22,\n",
      "            \"avg_ambiguity\": 0.217,\n",
      "            \"avg_distinctiveness\": 0.0787,\n",
      "            \"avg_surprise\": -0.0761,\n",
      "            \"avg_unusualness\": 5.5059,\n",
      "            \"avg_incorp_pun\": 0.9926,\n",
      "            \"avg_incorp_one_pun\": 0.8556,\n",
      "            \"avg_incorp_contexts\": 0.9522,\n",
      "            \"avg_overlap\": 0.1834,\n",
      "            \"avg_success\": 0.742,\n",
      "            \"avg_strict_success\": 0.6802\n",
      "        },\n",
      "        \"het\": {\n",
      "            \"avg_len\": 12.03,\n",
      "            \"avg_ambiguity\": 0.216,\n",
      "            \"avg_distinctiveness\": 0.1634,\n",
      "            \"avg_surprise\": 0.2053,\n",
      "            \"avg_unusualness\": 5.7671,\n",
      "            \"avg_incorp_pun\": 0.9876,\n",
      "            \"avg_incorp_one_pun\": 0.5425,\n",
      "            \"avg_incorp_contexts\": 0.9367,\n",
      "            \"avg_overlap\": 0.1431,\n",
      "            \"avg_success\": 0.4637,\n",
      "            \"avg_strict_success\": 0.4297\n",
      "        }\n",
      "    },\n",
      "    \"gpt-4-1106-preview_text1\": {\n",
      "        \"hom\": {\n",
      "            \"avg_len\": 13.96,\n",
      "            \"avg_ambiguity\": 0.2247,\n",
      "            \"avg_distinctiveness\": 0.0474,\n",
      "            \"avg_surprise\": -0.0269,\n",
      "            \"avg_unusualness\": 5.2766,\n",
      "            \"avg_incorp_pun\": 0.9802,\n",
      "            \"avg_incorp_one_pun\": 0.8901,\n",
      "            \"avg_incorp_contexts\": null,\n",
      "            \"avg_overlap\": 0.0926,\n",
      "            \"avg_success\": 0.7901,\n",
      "            \"avg_strict_success\": 0.7901\n",
      "        },\n",
      "        \"het\": {\n",
      "            \"avg_len\": 12.22,\n",
      "            \"avg_ambiguity\": 0.2208,\n",
      "            \"avg_distinctiveness\": 0.0977,\n",
      "            \"avg_surprise\": 0.1205,\n",
      "            \"avg_unusualness\": 5.7045,\n",
      "            \"avg_incorp_pun\": 0.9799,\n",
      "            \"avg_incorp_one_pun\": 0.847,\n",
      "            \"avg_incorp_contexts\": null,\n",
      "            \"avg_overlap\": 0.08,\n",
      "            \"avg_success\": 0.7218,\n",
      "            \"avg_strict_success\": 0.7218\n",
      "        }\n",
      "    },\n",
      "    \"gpt-4-1106-preview_text2\": {\n",
      "        \"hom\": {\n",
      "            \"avg_len\": 13.01,\n",
      "            \"avg_ambiguity\": 0.2169,\n",
      "            \"avg_distinctiveness\": 0.0815,\n",
      "            \"avg_surprise\": -0.2174,\n",
      "            \"avg_unusualness\": 5.4715,\n",
      "            \"avg_incorp_pun\": 0.9951,\n",
      "            \"avg_incorp_one_pun\": 0.8802,\n",
      "            \"avg_incorp_contexts\": 0.9764,\n",
      "            \"avg_overlap\": 0.1888,\n",
      "            \"avg_success\": 0.8407,\n",
      "            \"avg_strict_success\": 0.7753\n",
      "        },\n",
      "        \"het\": {\n",
      "            \"avg_len\": 11.88,\n",
      "            \"avg_ambiguity\": 0.1992,\n",
      "            \"avg_distinctiveness\": 0.1684,\n",
      "            \"avg_surprise\": 0.2845,\n",
      "            \"avg_unusualness\": 5.8005,\n",
      "            \"avg_incorp_pun\": 0.983,\n",
      "            \"avg_incorp_one_pun\": 0.7944,\n",
      "            \"avg_incorp_contexts\": 0.9689,\n",
      "            \"avg_overlap\": 0.1628,\n",
      "            \"avg_success\": 0.6924,\n",
      "            \"avg_strict_success\": 0.6337\n",
      "        }\n",
      "    },\n",
      "    \"gemini-pro_text1\": {\n",
      "        \"hom\": {\n",
      "            \"avg_len\": 13.13,\n",
      "            \"avg_ambiguity\": 0.2224,\n",
      "            \"avg_distinctiveness\": 0.0376,\n",
      "            \"avg_surprise\": -0.203,\n",
      "            \"avg_unusualness\": 5.2255,\n",
      "            \"avg_incorp_pun\": 0.9642,\n",
      "            \"avg_incorp_one_pun\": 0.6802,\n",
      "            \"avg_incorp_contexts\": null,\n",
      "            \"avg_overlap\": 0.0922,\n",
      "            \"avg_success\": 0.4642,\n",
      "            \"avg_strict_success\": 0.4642\n",
      "        },\n",
      "        \"het\": {\n",
      "            \"avg_len\": 10.46,\n",
      "            \"avg_ambiguity\": 0.2406,\n",
      "            \"avg_distinctiveness\": 0.0721,\n",
      "            \"avg_surprise\": -0.0756,\n",
      "            \"avg_unusualness\": 5.8053,\n",
      "            \"avg_incorp_pun\": 0.9845,\n",
      "            \"avg_incorp_one_pun\": 0.3833,\n",
      "            \"avg_incorp_contexts\": null,\n",
      "            \"avg_overlap\": 0.0802,\n",
      "            \"avg_success\": 0.2921,\n",
      "            \"avg_strict_success\": 0.2906\n",
      "        }\n",
      "    },\n",
      "    \"gemini-pro_text2\": {\n",
      "        \"hom\": {\n",
      "            \"avg_len\": 11.15,\n",
      "            \"avg_ambiguity\": 0.2208,\n",
      "            \"avg_distinctiveness\": 0.079,\n",
      "            \"avg_surprise\": -0.2003,\n",
      "            \"avg_unusualness\": 5.6905,\n",
      "            \"avg_incorp_pun\": 0.9951,\n",
      "            \"avg_incorp_one_pun\": 0.6889,\n",
      "            \"avg_incorp_contexts\": 0.9456,\n",
      "            \"avg_overlap\": 0.1829,\n",
      "            \"avg_success\": 0.6086,\n",
      "            \"avg_strict_success\": 0.558\n",
      "        },\n",
      "        \"het\": {\n",
      "            \"avg_len\": 10.41,\n",
      "            \"avg_ambiguity\": 0.1981,\n",
      "            \"avg_distinctiveness\": 0.1488,\n",
      "            \"avg_surprise\": 0.1421,\n",
      "            \"avg_unusualness\": 6.0668,\n",
      "            \"avg_incorp_pun\": 0.9845,\n",
      "            \"avg_incorp_one_pun\": 0.5811,\n",
      "            \"avg_incorp_contexts\": 0.9239,\n",
      "            \"avg_overlap\": 0.1395,\n",
      "            \"avg_success\": 0.4575,\n",
      "            \"avg_strict_success\": 0.425\n",
      "        }\n",
      "    },\n",
      "    \"vicuna-7b-v1.5_text1\": {\n",
      "        \"hom\": {\n",
      "            \"avg_len\": 15.89,\n",
      "            \"avg_ambiguity\": 0.2227,\n",
      "            \"avg_distinctiveness\": 0.0616,\n",
      "            \"avg_surprise\": -0.2488,\n",
      "            \"avg_unusualness\": 4.7341,\n",
      "            \"avg_incorp_pun\": 0.9679,\n",
      "            \"avg_incorp_one_pun\": 0.6901,\n",
      "            \"avg_incorp_contexts\": null,\n",
      "            \"avg_overlap\": 0.0819,\n",
      "            \"avg_success\": 0.1877,\n",
      "            \"avg_strict_success\": 0.1877\n",
      "        },\n",
      "        \"het\": {\n",
      "            \"avg_len\": 15.29,\n",
      "            \"avg_ambiguity\": 0.2111,\n",
      "            \"avg_distinctiveness\": 0.0881,\n",
      "            \"avg_surprise\": -0.2721,\n",
      "            \"avg_unusualness\": 5.0302,\n",
      "            \"avg_incorp_pun\": 0.983,\n",
      "            \"avg_incorp_one_pun\": 0.3771,\n",
      "            \"avg_incorp_contexts\": null,\n",
      "            \"avg_overlap\": 0.0729,\n",
      "            \"avg_success\": 0.1901,\n",
      "            \"avg_strict_success\": 0.1901\n",
      "        }\n",
      "    },\n",
      "    \"vicuna-7b-v1.5_text2\": {\n",
      "        \"hom\": {\n",
      "            \"avg_len\": 15.1,\n",
      "            \"avg_ambiguity\": 0.1991,\n",
      "            \"avg_distinctiveness\": 0.0766,\n",
      "            \"avg_surprise\": -0.1806,\n",
      "            \"avg_unusualness\": 5.1716,\n",
      "            \"avg_incorp_pun\": 0.984,\n",
      "            \"avg_incorp_one_pun\": 0.7815,\n",
      "            \"avg_incorp_contexts\": 0.8848,\n",
      "            \"avg_overlap\": 0.1348,\n",
      "            \"avg_success\": 0.5272,\n",
      "            \"avg_strict_success\": 0.5\n",
      "        },\n",
      "        \"het\": {\n",
      "            \"avg_len\": 15.77,\n",
      "            \"avg_ambiguity\": 0.1824,\n",
      "            \"avg_distinctiveness\": 0.2375,\n",
      "            \"avg_surprise\": 0.0154,\n",
      "            \"avg_unusualness\": 5.3241,\n",
      "            \"avg_incorp_pun\": 0.9876,\n",
      "            \"avg_incorp_one_pun\": 0.4529,\n",
      "            \"avg_incorp_contexts\": 0.8697,\n",
      "            \"avg_overlap\": 0.1128,\n",
      "            \"avg_success\": 0.2828,\n",
      "            \"avg_strict_success\": 0.2736\n",
      "        }\n",
      "    },\n",
      "    \"llama-2-7b-chat_text1\": {\n",
      "        \"hom\": {\n",
      "            \"avg_len\": 17.65,\n",
      "            \"avg_ambiguity\": 0.2058,\n",
      "            \"avg_distinctiveness\": 0.0334,\n",
      "            \"avg_surprise\": -0.1296,\n",
      "            \"avg_unusualness\": 4.9223,\n",
      "            \"avg_incorp_pun\": 0.658,\n",
      "            \"avg_incorp_one_pun\": 0.4247,\n",
      "            \"avg_incorp_contexts\": null,\n",
      "            \"avg_overlap\": 0.0729,\n",
      "            \"avg_success\": 0.1272,\n",
      "            \"avg_strict_success\": 0.1272\n",
      "        },\n",
      "        \"het\": {\n",
      "            \"avg_len\": 14.32,\n",
      "            \"avg_ambiguity\": 0.168,\n",
      "            \"avg_distinctiveness\": 0.1548,\n",
      "            \"avg_surprise\": -0.0292,\n",
      "            \"avg_unusualness\": 5.5593,\n",
      "            \"avg_incorp_pun\": 0.4606,\n",
      "            \"avg_incorp_one_pun\": 0.1453,\n",
      "            \"avg_incorp_contexts\": null,\n",
      "            \"avg_overlap\": 0.0611,\n",
      "            \"avg_success\": 0.0819,\n",
      "            \"avg_strict_success\": 0.0819\n",
      "        }\n",
      "    },\n",
      "    \"llama-2-7b-chat_text2\": {\n",
      "        \"hom\": {\n",
      "            \"avg_len\": 17.39,\n",
      "            \"avg_ambiguity\": 0.2052,\n",
      "            \"avg_distinctiveness\": 0.1074,\n",
      "            \"avg_surprise\": -0.0932,\n",
      "            \"avg_unusualness\": 5.2542,\n",
      "            \"avg_incorp_pun\": 0.8741,\n",
      "            \"avg_incorp_one_pun\": 0.6049,\n",
      "            \"avg_incorp_contexts\": 0.7455,\n",
      "            \"avg_overlap\": 0.114,\n",
      "            \"avg_success\": 0.3975,\n",
      "            \"avg_strict_success\": 0.3864\n",
      "        },\n",
      "        \"het\": {\n",
      "            \"avg_len\": 17.49,\n",
      "            \"avg_ambiguity\": 0.18,\n",
      "            \"avg_distinctiveness\": 0.2348,\n",
      "            \"avg_surprise\": -0.0658,\n",
      "            \"avg_unusualness\": 5.3981,\n",
      "            \"avg_incorp_pun\": 0.9057,\n",
      "            \"avg_incorp_one_pun\": 0.3524,\n",
      "            \"avg_incorp_contexts\": 0.7559,\n",
      "            \"avg_overlap\": 0.0969,\n",
      "            \"avg_success\": 0.2241,\n",
      "            \"avg_strict_success\": 0.2226\n",
      "        }\n",
      "    },\n",
      "    \"mistral-7b-instruct-v0.2_text1\": {\n",
      "        \"hom\": {\n",
      "            \"avg_len\": 18.45,\n",
      "            \"avg_ambiguity\": 0.1932,\n",
      "            \"avg_distinctiveness\": 0.0722,\n",
      "            \"avg_surprise\": -0.2389,\n",
      "            \"avg_unusualness\": 5.2996,\n",
      "            \"avg_incorp_pun\": 0.9741,\n",
      "            \"avg_incorp_one_pun\": 0.5827,\n",
      "            \"avg_incorp_contexts\": null,\n",
      "            \"avg_overlap\": 0.0811,\n",
      "            \"avg_success\": 0.3901,\n",
      "            \"avg_strict_success\": 0.3901\n",
      "        },\n",
      "        \"het\": {\n",
      "            \"avg_len\": 14.55,\n",
      "            \"avg_ambiguity\": 0.2114,\n",
      "            \"avg_distinctiveness\": 0.1511,\n",
      "            \"avg_surprise\": -0.1564,\n",
      "            \"avg_unusualness\": 5.8437,\n",
      "            \"avg_incorp_pun\": 0.9722,\n",
      "            \"avg_incorp_one_pun\": 0.3431,\n",
      "            \"avg_incorp_contexts\": null,\n",
      "            \"avg_overlap\": 0.0683,\n",
      "            \"avg_success\": 0.238,\n",
      "            \"avg_strict_success\": 0.238\n",
      "        }\n",
      "    },\n",
      "    \"mistral-7b-instruct-v0.2_text2\": {\n",
      "        \"hom\": {\n",
      "            \"avg_len\": 16.62,\n",
      "            \"avg_ambiguity\": 0.1861,\n",
      "            \"avg_distinctiveness\": 0.1145,\n",
      "            \"avg_surprise\": -0.2009,\n",
      "            \"avg_unusualness\": 5.3947,\n",
      "            \"avg_incorp_pun\": 0.9877,\n",
      "            \"avg_incorp_one_pun\": 0.616,\n",
      "            \"avg_incorp_contexts\": 0.9236,\n",
      "            \"avg_overlap\": 0.1139,\n",
      "            \"avg_success\": 0.5,\n",
      "            \"avg_strict_success\": 0.4951\n",
      "        },\n",
      "        \"het\": {\n",
      "            \"avg_len\": 15.41,\n",
      "            \"avg_ambiguity\": 0.1755,\n",
      "            \"avg_distinctiveness\": 0.213,\n",
      "            \"avg_surprise\": 0.1078,\n",
      "            \"avg_unusualness\": 5.6295,\n",
      "            \"avg_incorp_pun\": 0.9892,\n",
      "            \"avg_incorp_one_pun\": 0.3725,\n",
      "            \"avg_incorp_contexts\": 0.9174,\n",
      "            \"avg_overlap\": 0.1103,\n",
      "            \"avg_success\": 0.289,\n",
      "            \"avg_strict_success\": 0.2859\n",
      "        }\n",
      "    },\n",
      "    \"openchat-3.5-0106_text1\": {\n",
      "        \"hom\": {\n",
      "            \"avg_len\": 16.41,\n",
      "            \"avg_ambiguity\": 0.2082,\n",
      "            \"avg_distinctiveness\": 0.058,\n",
      "            \"avg_surprise\": -0.168,\n",
      "            \"avg_unusualness\": 5.0549,\n",
      "            \"avg_incorp_pun\": 0.9765,\n",
      "            \"avg_incorp_one_pun\": 0.5494,\n",
      "            \"avg_incorp_contexts\": null,\n",
      "            \"avg_overlap\": 0.092,\n",
      "            \"avg_success\": 0.3284,\n",
      "            \"avg_strict_success\": 0.3284\n",
      "        },\n",
      "        \"het\": {\n",
      "            \"avg_len\": 13.62,\n",
      "            \"avg_ambiguity\": 0.2071,\n",
      "            \"avg_distinctiveness\": 0.1356,\n",
      "            \"avg_surprise\": -0.261,\n",
      "            \"avg_unusualness\": 5.5112,\n",
      "            \"avg_incorp_pun\": 0.9845,\n",
      "            \"avg_incorp_one_pun\": 0.2705,\n",
      "            \"avg_incorp_contexts\": null,\n",
      "            \"avg_overlap\": 0.0808,\n",
      "            \"avg_success\": 0.2009,\n",
      "            \"avg_strict_success\": 0.2009\n",
      "        }\n",
      "    },\n",
      "    \"openchat-3.5-0106_text2\": {\n",
      "        \"hom\": {\n",
      "            \"avg_len\": 15.6,\n",
      "            \"avg_ambiguity\": 0.1957,\n",
      "            \"avg_distinctiveness\": 0.0905,\n",
      "            \"avg_surprise\": -0.133,\n",
      "            \"avg_unusualness\": 5.3523,\n",
      "            \"avg_incorp_pun\": 0.9901,\n",
      "            \"avg_incorp_one_pun\": 0.6358,\n",
      "            \"avg_incorp_contexts\": 0.9602,\n",
      "            \"avg_overlap\": 0.1315,\n",
      "            \"avg_success\": 0.5086,\n",
      "            \"avg_strict_success\": 0.4975\n",
      "        },\n",
      "        \"het\": {\n",
      "            \"avg_len\": 14.24,\n",
      "            \"avg_ambiguity\": 0.1655,\n",
      "            \"avg_distinctiveness\": 0.2352,\n",
      "            \"avg_surprise\": 0.0127,\n",
      "            \"avg_unusualness\": 5.5161,\n",
      "            \"avg_incorp_pun\": 0.9954,\n",
      "            \"avg_incorp_one_pun\": 0.3524,\n",
      "            \"avg_incorp_contexts\": 0.9382,\n",
      "            \"avg_overlap\": 0.1196,\n",
      "            \"avg_success\": 0.2921,\n",
      "            \"avg_strict_success\": 0.2844\n",
      "        }\n",
      "    },\n",
      "    \"claude-3-opus-20240229_text1\": {\n",
      "        \"hom\": {\n",
      "            \"avg_len\": 11.24,\n",
      "            \"avg_ambiguity\": 0.211,\n",
      "            \"avg_distinctiveness\": 0.0727,\n",
      "            \"avg_surprise\": -0.1501,\n",
      "            \"avg_unusualness\": 5.6868,\n",
      "            \"avg_incorp_pun\": 0.9247,\n",
      "            \"avg_incorp_one_pun\": 0.8926,\n",
      "            \"avg_incorp_contexts\": null,\n",
      "            \"avg_overlap\": 0.0989,\n",
      "            \"avg_success\": 0.6938,\n",
      "            \"avg_strict_success\": 0.6938\n",
      "        },\n",
      "        \"het\": {\n",
      "            \"avg_len\": 9.35,\n",
      "            \"avg_ambiguity\": 0.2001,\n",
      "            \"avg_distinctiveness\": 0.2077,\n",
      "            \"avg_surprise\": 0.0964,\n",
      "            \"avg_unusualness\": 6.578,\n",
      "            \"avg_incorp_pun\": 0.9892,\n",
      "            \"avg_incorp_one_pun\": 0.915,\n",
      "            \"avg_incorp_contexts\": null,\n",
      "            \"avg_overlap\": 0.0807,\n",
      "            \"avg_success\": 0.7233,\n",
      "            \"avg_strict_success\": 0.7218\n",
      "        }\n",
      "    },\n",
      "    \"claude-3-opus-20240229_text2\": {\n",
      "        \"hom\": {\n",
      "            \"avg_len\": 9.9,\n",
      "            \"avg_ambiguity\": 0.2367,\n",
      "            \"avg_distinctiveness\": 0.0811,\n",
      "            \"avg_surprise\": -0.131,\n",
      "            \"avg_unusualness\": 5.8319,\n",
      "            \"avg_incorp_pun\": 0.9975,\n",
      "            \"avg_incorp_one_pun\": 0.9074,\n",
      "            \"avg_incorp_contexts\": 0.9719,\n",
      "            \"avg_overlap\": 0.2412,\n",
      "            \"avg_success\": 0.8296,\n",
      "            \"avg_strict_success\": 0.7025\n",
      "        },\n",
      "        \"het\": {\n",
      "            \"avg_len\": 9.57,\n",
      "            \"avg_ambiguity\": 0.2062,\n",
      "            \"avg_distinctiveness\": 0.185,\n",
      "            \"avg_surprise\": 0.2747,\n",
      "            \"avg_unusualness\": 6.2025,\n",
      "            \"avg_incorp_pun\": 0.9923,\n",
      "            \"avg_incorp_one_pun\": 0.8485,\n",
      "            \"avg_incorp_contexts\": 0.9727,\n",
      "            \"avg_overlap\": 0.1936,\n",
      "            \"avg_success\": 0.7465,\n",
      "            \"avg_strict_success\": 0.6631\n",
      "        }\n",
      "    }\n",
      "}\n"
     ]
    }
   ],
   "source": [
    "path = r'./results/pun_generation_detailed_indicators.json'\n",
    "generation_eval_summary(evaluations=load_json_file(path), save=True)"
   ],
   "metadata": {
    "collapsed": false,
    "ExecuteTime": {
     "start_time": "2024-04-19T17:38:10.026794Z",
     "end_time": "2024-04-19T17:38:10.181403Z"
    }
   }
  },
  {
   "cell_type": "markdown",
   "source": [
    "## Additional: Indicators ~ Humor"
   ],
   "metadata": {
    "collapsed": false
   }
  },
  {
   "cell_type": "code",
   "execution_count": 16,
   "outputs": [],
   "source": [
    "import pandas as pd\n",
    "import matplotlib.pyplot as plt\n",
    "\n",
    "def plot_indicators_with_humor(dataset, indicators, save:bool=False):\n",
    "    \"\"\"\n",
    "    Draw a diagram illustrating the relationship\n",
    "    between Ambiguity, Distinctiveness, Surprise, Unusualness, and Human Funniness Rating.\n",
    "    \"\"\"\n",
    "    IDs = set(dataset)&set(indicators)\n",
    "    record = []\n",
    "    name = ['Ambiguity', 'Distinctiveness', 'Surprise', 'Unusualness', 'Human Funniness Rating']\n",
    "    for ID in IDs:\n",
    "        data = dataset[ID]\n",
    "        indicator = indicators[ID]['human_text']\n",
    "        funniness = data['human_rating']\n",
    "        ambiguity = indicator['ambiguity']\n",
    "        distinctiveness = indicator['distinctiveness']\n",
    "        surprise = indicator['surprise']\n",
    "        unusualness = indicator['unusualness']\n",
    "        if ambiguity is not None and distinctiveness is not None:\n",
    "            record.append([ambiguity, distinctiveness, surprise, unusualness, funniness])\n",
    "    record = list(zip(*record))\n",
    "    record = pd.DataFrame({n:r for n,r in zip(name, record)})\n",
    "    title = f'Generation Indicators ~ Human Funniness Rating'\n",
    "    fig, axes = plt.subplots(nrows=2, ncols=2, figsize=(12,10))\n",
    "    fig.suptitle(title, x=0.5,y=0.9, horizontalalignment='center', va='bottom')\n",
    "    # Unpack all the axes subplots\n",
    "    axes = axes.ravel()\n",
    "    for i,column in enumerate(name[0:4]):\n",
    "        record[[column,name[-1]]].groupby(name[-1]).mean().\\\n",
    "            plot(kind='line', ax=axes[i], legend='upper left')\n",
    "        axes[i].legend(loc='upper left')\n",
    "    if save:\n",
    "        path = r'./results/pun_generation_indicators_relate_to_humor.png'\n",
    "        plt.savefig(path)\n",
    "    plt.show()\n",
    "    plt.close()"
   ],
   "metadata": {
    "collapsed": false,
    "ExecuteTime": {
     "start_time": "2024-03-26T15:22:57.413519Z",
     "end_time": "2024-03-26T15:22:57.922843Z"
    }
   }
  },
  {
   "cell_type": "code",
   "execution_count": 17,
   "outputs": [
    {
     "data": {
      "text/plain": "<Figure size 1200x1000 with 4 Axes>",
      "image/png": "[encoded data removed]"
     },
     "metadata": {},
     "output_type": "display_data"
    }
   ],
   "source": [
    "indicators = r'./results/pun_generation_detailed_indicators.json'\n",
    "indicators = load_json_file(indicators)\n",
    "plot_indicators_with_humor(dataset=dict(**hom_punDataset,**het_punDataset), indicators=indicators, save=True)"
   ],
   "metadata": {
    "collapsed": false,
    "ExecuteTime": {
     "start_time": "2024-03-26T15:23:00.352935Z",
     "end_time": "2024-03-26T15:23:01.423885Z"
    }
   }
  }
 ],
 "metadata": {
  "kernelspec": {
   "display_name": "Python 3",
   "language": "python",
   "name": "python3"
  },
  "language_info": {
   "codemirror_mode": {
    "name": "ipython",
    "version": 2
   },
   "file_extension": ".py",
   "mimetype": "text/x-python",
   "name": "python",
   "nbconvert_exporter": "python",
   "pygments_lexer": "ipython2",
   "version": "2.7.6"
  }
 },
 "nbformat": 4,
 "nbformat_minor": 0
}
